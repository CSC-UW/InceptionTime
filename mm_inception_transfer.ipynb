{
 "cells": [
  {
   "cell_type": "code",
   "execution_count": 1,
   "metadata": {},
   "outputs": [
    {
     "name": "stdout",
     "output_type": "stream",
     "text": [
      "WARNING:tensorflow:From /opt/apps/software/TensorFlow/2.2.0-fosscuda-2019b-Python-3.7.4/lib/python3.7/site-packages/tensorflow/python/compat/v2_compat.py:96: disable_resource_variables (from tensorflow.python.ops.variable_scope) is deprecated and will be removed in a future version.\n",
      "Instructions for updating:\n",
      "non-resource variables are not supported in the long term\n"
     ]
    },
    {
     "name": "stderr",
     "output_type": "stream",
     "text": [
      "Using TensorFlow backend.\n"
     ]
    }
   ],
   "source": [
    "%matplotlib widget\n",
    "import sys\n",
    "import os\n",
    "import re\n",
    "#sys.path = [p for p in sys.path if p.find('/opt/apps/software/') == -1]\n",
    "from glob import glob\n",
    "from IPython.display import display, HTML\n",
    "from matplotlib import pyplot as plt\n",
    "\n",
    "from utils.constants import UNIVARIATE_ARCHIVE_NAMES as ARCHIVE_NAMES\n",
    "from utils.constants import UNIVARIATE_DATASET_NAMES as DATASET_NAMES\n",
    "from utils.utils import read_all_datasets, transform_labels, create_directory, run_length_xps, generate_results_csv, plot_epochs_metric\n",
    "from utils.data_loading import get_multiple_data, predict, shifted_zscore, zscore, print_metric, tf_rmse, tf_pmse, rmse\n",
    "import utils\n",
    "from classifiers import inception\n",
    "\n",
    "import numpy as np\n",
    "import pandas as pd\n",
    "import sklearn\n",
    "\n",
    "# os.environ[\"CUDA_VISIBLE_DEVICES\"] = \"0,1\"\n",
    "os.environ[\"CUDA_VISIBLE_DEVICES\"] = \"1\"\n",
    "\n",
    "def tf_pmse_DA(y_true, y_pred):\n",
    "    return tf_pmse(y_true, y_pred, idx=0)\n",
    "\n",
    "def tf_pmse_5HT(y_true, y_pred):\n",
    "    return tf_pmse(y_true, y_pred, idx=1)\n",
    "\n",
    "def tf_pmse_pH(y_true, y_pred):\n",
    "    return tf_pmse(y_true, y_pred, idx=2)\n",
    "\n",
    "def tf_pmse_NE(y_true, y_pred):\n",
    "    return tf_pmse(y_true, y_pred, idx=3)\n",
    "\n",
    "# import keras\n",
    "# keras.backend.tensorflow_backend._get_available_gpus()"
   ]
  },
  {
   "cell_type": "code",
   "execution_count": 2,
   "metadata": {},
   "outputs": [
    {
     "name": "stdout",
     "output_type": "stream",
     "text": [
      "hold probe : MMA025W01R04\n",
      "validation probe : MMA003W01R04\n",
      "Leaving out probe MMA025W01R04\n",
      "Validation probe MMA003W01R04\n",
      "Loading data\n",
      "No 500ohms\n",
      "number of voltammograms files 36\n",
      "after filter 36\n",
      "after removing bad probes 36\n",
      "number of holdout files 4\n",
      "(52800, 999)\n",
      "(52800, 4)\n",
      "validation probe: MMA003W01R04\n",
      "number of validation files 4\n",
      "(52800, 999)\n",
      "(52800, 4)\n",
      "number of train files 28\n",
      "(369600, 999)\n",
      "(369600, 4)\n",
      "adding singleton\n"
     ]
    }
   ],
   "source": [
    "names = ['DA', '5HT', 'pH', 'NE']\n",
    "# data_prefix = '/mnt/nfs/proj/in-vitro/iterate/results_014/model_style_008/training-A-RBE-97Hz/'\n",
    "data_prefix = '/mnt/nfs/proj/in-vitro/iterate/results_014/model_style_008/training-B-RBE025-97Hz/'\n",
    "voltammograms = glob(data_prefix + '/*MMA*/voltammograms.mat')\n",
    "probes = ['MMA003W01R04', 'MMA004W01R04', 'MMA013W01R04', 'MMA018W01R04', 'MMA019W01R04', 'MMA022W01R04', 'MMA023W01R04', 'MMA024W01R04', 'MMA025W01R04']\n",
    "good_probes = probes\n",
    "\n",
    "hold_probe = probes[8]\n",
    "# hold_probe=None\n",
    "print('hold probe :', hold_probe)\n",
    "\n",
    "output_directory = f'/mnt/nfs/proj/in-vitro/Leonardo/inception/results/mm/{hold_probe}/'\n",
    "\n",
    "if not (os.path.exists(output_directory)):\n",
    "    os.makedirs(output_directory, exist_ok=True)\n",
    "\n",
    "# val_probe=None\n",
    "val_probe=probes[0]\n",
    "print('validation probe :', val_probe)\n",
    "\n",
    "print(f'Leaving out probe {hold_probe}', flush=True)\n",
    "print(f'Validation probe {val_probe}', flush=True)\n",
    "print(f'Loading data', flush=True)\n",
    "\n",
    "filter_files = lambda x : x.find('500kohm') == -1\n",
    "print('No 500ohms')\n",
    "\n",
    "# filter_files = lambda x : x.find('500kohm') > -1\n",
    "# print('ONLY 500ohms')\n",
    "\n",
    "# normalize_data = minmax\n",
    "# revert_data = lambda x: minmax(x, inverse=True)\n",
    "\n",
    "normalize_data = shifted_zscore\n",
    "revert_data = lambda x: shifted_zscore(x, inverse=True)\n",
    "\n",
    "# normalize_data = zscore\n",
    "# revert_data = lambda x: zscore(x, inverse=True)\n",
    "\n",
    "# normalize_data = lambda x: x\n",
    "# revert_data = lambda x: x\n",
    "\n",
    "x_train, y_train, x_val, y_val, x_test, y_test = get_multiple_data(data_prefix,\n",
    "                                                                    probes=good_probes,\n",
    "                                                                    holdout=hold_probe,\n",
    "                                                                    val_probe=val_probe,\n",
    "                                                                    number_of_minibatches=20,\n",
    "                                                                    normalize_data=normalize_data,\n",
    "                                                                    filter_files=filter_files,\n",
    "#                                                                     nrecords_per_session=1)\n",
    "                                                                    nrecords_per_session=400)\n",
    "# print('Data loaded')\n",
    "\n",
    "if len(x_train.shape) == 2:  # if univariate\n",
    "    print('adding singleton')\n",
    "    # add a dimension to make it multivariate with one dimension\n",
    "    x_train = x_train.reshape((x_train.shape[0], x_train.shape[1], 1))\n",
    "    x_val = x_val.reshape((x_val.shape[0], x_val.shape[1], 1))\n",
    "    x_test = x_test.reshape((x_test.shape[0], x_test.shape[1], 1))\n",
    "\n",
    "input_shape = x_train.shape[1:]\n",
    "output_shape = y_train.shape[1]\n"
   ]
  },
  {
   "cell_type": "code",
   "execution_count": 3,
   "metadata": {},
   "outputs": [
    {
     "name": "stdout",
     "output_type": "stream",
     "text": [
      "/mnt/nfs/proj/in-vitro/Leonardo/inception/results/mm/MMA025W01R04/\n"
     ]
    }
   ],
   "source": [
    "print(output_directory)"
   ]
  },
  {
   "cell_type": "code",
   "execution_count": 4,
   "metadata": {},
   "outputs": [],
   "source": [
    "# load pre model\n",
    "\n",
    "import keras \n",
    "\n",
    "cf_model_path = '/mnt/nfs/proj/in-vitro/Leonardo/inception/results/cf/CF082/best_model.hdf5'\n",
    "\n",
    "# NOTE: tf_pmse* is different for CF (different mean/std). In theory it doesn't matter since we are just loading the model to get the weights, so running this model with \n",
    "# MM data will produce wrong metrics\n",
    "cf_model = keras.models.load_model(cf_model_path, \n",
    "                                   custom_objects={\"tf_pmse_DA\": tf_pmse_DA, \"tf_pmse_5HT\": tf_pmse_5HT, \"tf_pmse_pH\": tf_pmse_pH, \"tf_pmse_NE\": tf_pmse_NE})\n",
    "\n",
    "# cf_model = None"
   ]
  },
  {
   "cell_type": "code",
   "execution_count": 5,
   "metadata": {},
   "outputs": [
    {
     "name": "stdout",
     "output_type": "stream",
     "text": [
      "INFO:tensorflow:Using MirroredStrategy with devices ('/replica:0/task:0/device:GPU:0',)\n",
      "loading previous weights (L-1 layers)...\n",
      "Compiling with Adam and metrics:  ['tf_pmse_DA', 'tf_pmse_5HT', 'tf_pmse_pH', 'tf_pmse_NE']\n",
      "Best model already fit: /mnt/nfs/proj/in-vitro/Leonardo/inception/results/mm/MMA025W01R04/best_model.hdf5\n"
     ]
    }
   ],
   "source": [
    "# Fit the model\n",
    "\n",
    "classifier = inception.Regression_INCEPTION(output_directory, input_shape, output_shape, verbose=1, build=True, nb_epochs=100, \n",
    "                                            metrics=[tf_pmse_DA, tf_pmse_5HT, tf_pmse_pH, tf_pmse_NE], pre_model=cf_model,\n",
    "                                            revert_data=revert_data)\n",
    "\n",
    "model_path = classifier.output_directory + 'best_model.hdf5'\n",
    "if os.path.isfile(model_path):\n",
    "    print('Best model already fit: %s'%model_path)\n",
    "    best_model = classifier.get_best_model()\n",
    "else:\n",
    "    print('Model not fit yet')\n",
    "    best_model = None\n",
    "\n",
    "# Epoch 1/1\n",
    "# 369600/369600 [==============================] - 330s 894us/step - \n",
    "# loss: 1.4710 - tf_pmse_DA: 995.1803 - tf_pmse_5HT: 1049.4110 - tf_pmse_pH: 0.3064 - tf_pmse_NE: 973.5949 - \n",
    "# val_loss: 1.1462 - val_tf_pmse_DA: 680.6979 - val_tf_pmse_5HT: 671.7536 - val_tf_pmse_pH: 0.3898 - val_tf_pmse_NE: 678.4900\n",
    "                                        \n",
    "# 369600/369600 [==============================] - 338s 913us/step - \n",
    "# loss: 1.3524 - tf_pmse_DA: 963.2611 - tf_pmse_5HT: 989.8214 - tf_pmse_pH: 0.2679 - tf_pmse_NE: 911.7079 - \n",
    "# val_loss: 1.8146 - val_tf_pmse_DA: 973.9214 - val_tf_pmse_5HT: 1004.9336 - val_tf_pmse_pH: 0.5226 - val_tf_pmse_NE: 884.2783"
   ]
  },
  {
   "cell_type": "code",
   "execution_count": 6,
   "metadata": {},
   "outputs": [
    {
     "name": "stdout",
     "output_type": "stream",
     "text": [
      "Model alread fit, computing prediction of validation data\n"
     ]
    },
    {
     "data": {
      "text/html": [
       "<table border=\"1\" class=\"dataframe\">\n",
       "  <thead>\n",
       "    <tr style=\"text-align: right;\">\n",
       "      <th></th>\n",
       "      <th>rmse_DA</th>\n",
       "      <th>rmse_5HT</th>\n",
       "      <th>rmse_pH</th>\n",
       "      <th>rmse_NE</th>\n",
       "      <th>duration</th>\n",
       "    </tr>\n",
       "  </thead>\n",
       "  <tbody>\n",
       "    <tr>\n",
       "      <th>0</th>\n",
       "      <td>965.848067</td>\n",
       "      <td>890.698064</td>\n",
       "      <td>0.466687</td>\n",
       "      <td>958.003357</td>\n",
       "      <td>0.0</td>\n",
       "    </tr>\n",
       "  </tbody>\n",
       "</table>"
      ],
      "text/plain": [
       "<IPython.core.display.HTML object>"
      ]
     },
     "metadata": {},
     "output_type": "display_data"
    }
   ],
   "source": [
    "# Fit inception time the model\n",
    "\n",
    "if best_model is None:\n",
    "    print('Fitting new model...')\n",
    "    metrics = classifier.fit(x_train, y_train, x_val, y_val, plot_test_acc=True)\n",
    "    best_model = classifier.get_best_model()\n",
    "else:\n",
    "    print('Model alread fit, computing prediction of validation data')\n",
    "    metrics = classifier.predict(x_val, y_val, x_train, y_train, return_df_metrics=True)\n",
    "\n",
    "display(HTML(metrics.to_html()))\n"
   ]
  },
  {
   "cell_type": "code",
   "execution_count": 7,
   "metadata": {},
   "outputs": [
    {
     "data": {
      "text/html": [
       "<table border=\"1\" class=\"dataframe\">\n",
       "  <thead>\n",
       "    <tr style=\"text-align: right;\">\n",
       "      <th></th>\n",
       "      <th>rmse_DA</th>\n",
       "      <th>rmse_5HT</th>\n",
       "      <th>rmse_pH</th>\n",
       "      <th>rmse_NE</th>\n",
       "      <th>duration</th>\n",
       "    </tr>\n",
       "  </thead>\n",
       "  <tbody>\n",
       "    <tr>\n",
       "      <th>0</th>\n",
       "      <td>1227.738781</td>\n",
       "      <td>1269.339316</td>\n",
       "      <td>0.328176</td>\n",
       "      <td>1387.609999</td>\n",
       "      <td>0.0</td>\n",
       "    </tr>\n",
       "  </tbody>\n",
       "</table>"
      ],
      "text/plain": [
       "<IPython.core.display.HTML object>"
      ]
     },
     "metadata": {},
     "output_type": "display_data"
    }
   ],
   "source": [
    "metrics = classifier.predict(x_test, y_test, x_train, y_train, return_df_metrics=True)\n",
    "display(HTML(metrics.to_html()))"
   ]
  },
  {
   "cell_type": "code",
   "execution_count": 8,
   "metadata": {},
   "outputs": [],
   "source": [
    "# import time\n",
    "# metrics = pd.DataFrame(data=np.zeros((1, 5), dtype=np.float), index=[0],\n",
    "#                    columns=['rmse_DA', 'rmse_5HT', 'rmse_pH', 'rmse_NE', 'duration'])\n",
    "# metrics['rmse_DA'] = 1200\n",
    "# metrics['rmse_5HT'] = 1100\n",
    "# metrics['rmse_NE'] = 1000\n",
    "# while (int(metrics['rmse_DA'].tolist()[0] > 700) + int(metrics['rmse_5HT'].tolist()[0] > 700) + int(metrics['rmse_NE'].tolist()[0] > 700)) > 1:\n",
    "#     print(int(metrics['rmse_DA'].tolist()[0] > 700) + int(metrics['rmse_5HT'].tolist()[0] > 700) + int(metrics['rmse_NE'].tolist()[0] > 700))\n",
    "#     metrics['rmse_DA'] -= 100 \n",
    "#     metrics['rmse_5HT'] -= 100\n",
    "#     metrics['rmse_NE'] -= 100\n",
    "#     print(metrics)\n",
    "#     time.sleep(.5)    "
   ]
  },
  {
   "cell_type": "code",
   "execution_count": 9,
   "metadata": {},
   "outputs": [
    {
     "name": "stdout",
     "output_type": "stream",
     "text": [
      "/mnt/nfs/proj/in-vitro/Leonardo/inception/results/mm/MMA025W01R04/best_model.hdf5\n"
     ]
    },
    {
     "data": {
      "text/html": [
       "<table border=\"1\" class=\"dataframe\">\n",
       "  <thead>\n",
       "    <tr style=\"text-align: right;\">\n",
       "      <th></th>\n",
       "      <th>rmse_DA</th>\n",
       "      <th>rmse_5HT</th>\n",
       "      <th>rmse_pH</th>\n",
       "      <th>rmse_NE</th>\n",
       "      <th>duration</th>\n",
       "    </tr>\n",
       "  </thead>\n",
       "  <tbody>\n",
       "    <tr>\n",
       "      <th>0</th>\n",
       "      <td>1227.738781</td>\n",
       "      <td>1269.339316</td>\n",
       "      <td>0.328176</td>\n",
       "      <td>1387.609999</td>\n",
       "      <td>0.0</td>\n",
       "    </tr>\n",
       "  </tbody>\n",
       "</table>"
      ],
      "text/plain": [
       "<IPython.core.display.HTML object>"
      ]
     },
     "metadata": {},
     "output_type": "display_data"
    }
   ],
   "source": [
    "model_path = os.path.join(classifier.output_directory, 'best_model.hdf5')\n",
    "# model_path = os.path.join(classifier.output_directory, 'last_model.hdf5')\n",
    "# model_path = os.path.join(classifier.output_directory, 'model_init.hdf5')\n",
    "\n",
    "print(model_path)\n",
    "\n",
    "model = keras.models.load_model(model_path, custom_objects={\"tf_pmse_DA\": tf_pmse_DA, \"tf_pmse_5HT\": tf_pmse_5HT, \"tf_pmse_pH\": tf_pmse_pH, \"tf_pmse_NE\": tf_pmse_NE})\n",
    "\n",
    "xt, yt = x_test, y_test\n",
    "# xt, yt = x_val, y_val\n",
    "\n",
    "yp = model.predict(xt, batch_size=64)\n",
    "\n",
    "yp = np.apply_along_axis(revert_data, axis=1, arr=yp) \n",
    "yt = np.apply_along_axis(revert_data, axis=1, arr=yt) \n",
    "\n",
    "rmse4 = rmse(yt, yp)\n",
    "\n",
    "metrics2 = pd.DataFrame(data=np.zeros((1, 5), dtype=np.float), index=[0], columns=['rmse_DA', 'rmse_5HT', 'rmse_pH', 'rmse_NE', 'duration'])\n",
    "metrics2['rmse_DA'] = rmse4[0]\n",
    "metrics2['rmse_5HT'] = rmse4[1]\n",
    "metrics2['rmse_pH'] = rmse4[2]\n",
    "metrics2['rmse_NE'] = rmse4[3]\n",
    "metrics2['duration'] = 0.0\n",
    "        \n",
    "display(HTML(metrics2.to_html()))"
   ]
  },
  {
   "cell_type": "code",
   "execution_count": 10,
   "metadata": {},
   "outputs": [
    {
     "data": {
      "application/vnd.jupyter.widget-view+json": {
       "model_id": "182815bbfdbe411e95e32e57244e5400",
       "version_major": 2,
       "version_minor": 0
      },
      "text/plain": [
       "Canvas(toolbar=Toolbar(toolitems=[('Home', 'Reset original view', 'home', 'home'), ('Back', 'Back to previous …"
      ]
     },
     "metadata": {},
     "output_type": "display_data"
    }
   ],
   "source": [
    "# def plot_concentrations(y):\n",
    "#     fig, axs = plt.subplots(2, 2, sharey=False, tight_layout=True)\n",
    "#     for ip in range(0,4):\n",
    "#         axs[np.unravel_index(ip, axs.shape)].hist(y[:,ip])\n",
    "# plot_concentrations(y_test)\n",
    "# plot_concentrations(y_pred)\n",
    "\n",
    "def plot_compare_test_pred(yt, yp):\n",
    "    fig, axs = plt.subplots(2, 4, sharey=False, tight_layout=True, figsize=(12, 5))\n",
    "    for ip in range(0,8):\n",
    "        axsidx = np.unravel_index(ip, axs.shape)\n",
    "        if ip < 4:\n",
    "            axs[axsidx].hist(yt[:,ip])\n",
    "        else:\n",
    "            axs[axsidx].hist(yp[:,ip-4])\n",
    "\n",
    "plot_compare_test_pred(yt, yp)\n",
    "plt.show()"
   ]
  },
  {
   "cell_type": "code",
   "execution_count": 11,
   "metadata": {},
   "outputs": [],
   "source": [
    "# best_model.summary()"
   ]
  },
  {
   "cell_type": "code",
   "execution_count": 12,
   "metadata": {},
   "outputs": [
    {
     "data": {
      "text/html": [
       "<table border=\"1\" class=\"dataframe\">\n",
       "  <thead>\n",
       "    <tr style=\"text-align: right;\">\n",
       "      <th></th>\n",
       "      <th>rmse_DA</th>\n",
       "      <th>rmse_5HT</th>\n",
       "      <th>rmse_pH</th>\n",
       "      <th>rmse_NE</th>\n",
       "      <th>duration</th>\n",
       "    </tr>\n",
       "  </thead>\n",
       "  <tbody>\n",
       "    <tr>\n",
       "      <th>0</th>\n",
       "      <td>1012.974832</td>\n",
       "      <td>881.49227</td>\n",
       "      <td>0.454479</td>\n",
       "      <td>978.212938</td>\n",
       "      <td>0.0</td>\n",
       "    </tr>\n",
       "  </tbody>\n",
       "</table>"
      ],
      "text/plain": [
       "<IPython.core.display.HTML object>"
      ]
     },
     "metadata": {},
     "output_type": "display_data"
    },
    {
     "name": "stdout",
     "output_type": "stream",
     "text": [
      "(1000, 999, 128)\n"
     ]
    }
   ],
   "source": [
    "model = best_model\n",
    "\n",
    "idxs = np.random.permutation(x_val.shape[0])\n",
    "x_cam = x_val[idxs[:1000],:,:]\n",
    "y_cam = y_val[idxs[:1000], :]\n",
    "\n",
    "w_k_c = model.layers[-1].get_weights()[0] # weights for each filter k for each class c \n",
    "\n",
    "new_input_layer = model.inputs # same input of the original model\n",
    "\n",
    "new_outpu_layer = [model.get_layer(\"conv1d_31\").output, model.layers[-1].output] # output is both the original as well as the before last layer \n",
    "# new_outpu_layer = [model.get_layer(\"activation_8\").output, model.layers[-1].output] # output is both the original as well as the before last layer \n",
    "\n",
    "new_function = keras.backend.function(new_input_layer,new_outpu_layer)\n",
    "\n",
    "new_feed_forward = new_function\n",
    "\n",
    "[conv_out, y_pred] = new_feed_forward((x_cam,))\n",
    "\n",
    "metrics = classifier._calculate_metrics(y_cam, y_pred, 0.0)\n",
    "display(HTML(metrics.to_html()))\n",
    "print(conv_out.shape)"
   ]
  },
  {
   "cell_type": "code",
   "execution_count": 13,
   "metadata": {},
   "outputs": [
    {
     "data": {
      "text/plain": [
       "(128, 4)"
      ]
     },
     "execution_count": 13,
     "metadata": {},
     "output_type": "execute_result"
    }
   ],
   "source": [
    "w_k_c.shape"
   ]
  },
  {
   "cell_type": "code",
   "execution_count": 14,
   "metadata": {},
   "outputs": [
    {
     "name": "stdout",
     "output_type": "stream",
     "text": [
      "(128, 4)\n",
      "(1000, 999, 128)\n"
     ]
    },
    {
     "data": {
      "application/vnd.jupyter.widget-view+json": {
       "model_id": "23de920fa2c745588339af92290a47cc",
       "version_major": 2,
       "version_minor": 0
      },
      "text/plain": [
       "Canvas(toolbar=Toolbar(toolitems=[('Home', 'Reset original view', 'home', 'home'), ('Back', 'Back to previous …"
      ]
     },
     "metadata": {},
     "output_type": "display_data"
    },
    {
     "data": {
      "application/vnd.jupyter.widget-view+json": {
       "model_id": "826f3839209a4c98b061bbfda22780a2",
       "version_major": 2,
       "version_minor": 0
      },
      "text/plain": [
       "Canvas(toolbar=Toolbar(toolitems=[('Home', 'Reset original view', 'home', 'home'), ('Back', 'Back to previous …"
      ]
     },
     "metadata": {},
     "output_type": "display_data"
    },
    {
     "data": {
      "application/vnd.jupyter.widget-view+json": {
       "model_id": "686aec09c23b4fcb94a4148b1704bdaf",
       "version_major": 2,
       "version_minor": 0
      },
      "text/plain": [
       "Canvas(toolbar=Toolbar(toolitems=[('Home', 'Reset original view', 'home', 'home'), ('Back', 'Back to previous …"
      ]
     },
     "metadata": {},
     "output_type": "display_data"
    },
    {
     "data": {
      "application/vnd.jupyter.widget-view+json": {
       "model_id": "28a2473b72ee4b17ba01d136ca3448e2",
       "version_major": 2,
       "version_minor": 0
      },
      "text/plain": [
       "Canvas(toolbar=Toolbar(toolitems=[('Home', 'Reset original view', 'home', 'home'), ('Back', 'Back to previous …"
      ]
     },
     "metadata": {},
     "output_type": "display_data"
    }
   ],
   "source": [
    "from matplotlib.collections import LineCollection\n",
    "from matplotlib.colors import ListedColormap, BoundaryNorm\n",
    "names = ['DA', '5HT', 'pH', 'NE']\n",
    "\n",
    "# print(\"original_label: \"+str(encoder.inverse_transform(np.argmax(original_binary_class))))\n",
    "# print(\"original_shape: \"+str(time_series_original.shape))\n",
    "# print(\"predicted_label:\"+str(encoder.inverse_transform(np.argmax(predicted))))\n",
    "# print(\"predicted_shape:\"+str(conv_out.shape))\n",
    "\n",
    "print(w_k_c.shape)\n",
    "print(conv_out.shape)\n",
    "\n",
    "# conv_out_0 = conv_out[0,:,:]\n",
    "conv_out_0 = np.squeeze(np.mean(conv_out, axis=0))\n",
    "\n",
    "# fig, axs = plt.subplots(2, 2, sharey=False, tight_layout=True, figsize=(12, 5))\n",
    "for j in range(y_val.shape[1]):\n",
    "    \n",
    "    fig, axs1 = plt.subplots(figsize=(12, 5))\n",
    "#     axsidx = np.unravel_index(j, axs.shape)\n",
    "#     axs1 = axs[axsidx]\n",
    "    \n",
    "    cas = np.zeros(dtype=np.float, shape = (conv_out.shape[1]))\n",
    "    for k,w in enumerate(w_k_c[:,j]):\n",
    "        cas += w * conv_out_0[:,k]\n",
    "    minimum = np.min(cas)\n",
    "    cas = cas - minimum\n",
    "    cas = cas/max(cas)\n",
    "    cas = cas * 100\n",
    "    cas = cas.astype(int)\n",
    "    \n",
    "#     axs[axsidx].plot(cas)\n",
    "\n",
    "    y = np.squeeze(np.mean(x_cam, axis=0))\n",
    "    x = np.array(range(y.shape[0]))\n",
    "    dydx = cas\n",
    "\n",
    "    # Create a set of line segments so that we can color them individually\n",
    "    # This creates the points as a N x 1 x 2 array so that we can stack points\n",
    "    # together easily to get the segments. The segments array for line collection\n",
    "    # needs to be (numlines) x (points per line) x 2 (for x and y)\n",
    "    points = np.array([x, y]).T.reshape(-1, 1, 2)\n",
    "    segments = np.concatenate([points[:-1], points[1:]], axis=1)\n",
    "\n",
    "    # Create a continuous norm to map from data points to colors\n",
    "    norm = plt.Normalize(dydx.min(), dydx.max())\n",
    "    lc = LineCollection(segments, cmap='jet', norm=norm)\n",
    "    # Set the values used for colormapping\n",
    "    lc.set_array(dydx)\n",
    "    lc.set_linewidth(3)\n",
    "    line = axs1.add_collection(lc)\n",
    "    fig.colorbar(line, ax=axs1)\n",
    "\n",
    "    # # Use a boundary norm instead\n",
    "    # cmap = ListedColormap(['r', 'g', 'b'])\n",
    "    # norm = BoundaryNorm([-1, -0.5, 0.5, 1], cmap.N)\n",
    "    # lc = LineCollection(segments, cmap=cmap, norm=norm)\n",
    "    # lc.set_array(dydx)\n",
    "    # lc.set_linewidth(2)\n",
    "    # line = axs[1].add_collection(lc)\n",
    "    # fig.colorbar(line, ax=axs[1])\n",
    "\n",
    "    axs1.set_xlim(x.min(), x.max())\n",
    "    axs1.set_ylim(y.min(), y.max())\n",
    "    axs1.set_title(names[j])\n",
    "\n",
    "plt.show()\n",
    "\n"
   ]
  },
  {
   "cell_type": "code",
   "execution_count": null,
   "metadata": {},
   "outputs": [],
   "source": []
  },
  {
   "cell_type": "code",
   "execution_count": null,
   "metadata": {},
   "outputs": [],
   "source": []
  }
 ],
 "metadata": {
  "kernelspec": {
   "display_name": "Python 3",
   "language": "python",
   "name": "python3"
  },
  "language_info": {
   "codemirror_mode": {
    "name": "ipython",
    "version": 3
   },
   "file_extension": ".py",
   "mimetype": "text/x-python",
   "name": "python",
   "nbconvert_exporter": "python",
   "pygments_lexer": "ipython3",
   "version": "3.7.4"
  }
 },
 "nbformat": 4,
 "nbformat_minor": 4
}
