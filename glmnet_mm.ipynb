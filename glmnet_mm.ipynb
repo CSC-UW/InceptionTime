{
 "cells": [
  {
   "cell_type": "code",
   "execution_count": 1,
   "metadata": {},
   "outputs": [
    {
     "data": {
      "text/html": [
       "<style>.container { width:100% !important; }</style>"
      ],
      "text/plain": [
       "<IPython.core.display.HTML object>"
      ]
     },
     "metadata": {},
     "output_type": "display_data"
    }
   ],
   "source": [
    "import glmnet_python\n",
    "from glmnet import glmnet\n",
    "\n",
    "# Import relevant modules and setup for calling glmnet\n",
    "%reset -f\n",
    "%matplotlib inline\n",
    "\n",
    "import time\n",
    "import sys\n",
    "import os\n",
    "import re\n",
    "from itertools import compress\n",
    "from glob import glob\n",
    "import pickle\n",
    "\n",
    "import scipy, importlib, pprint, matplotlib.pyplot as plt, warnings\n",
    "from scipy.io import loadmat\n",
    "\n",
    "import numpy as np\n",
    "from glmnet import glmnet; from glmnetPlot import glmnetPlot\n",
    "from glmnetPrint import glmnetPrint; from glmnetCoef import glmnetCoef; from glmnetPredict import glmnetPredict\n",
    "from cvglmnet import cvglmnet; from cvglmnetCoef import cvglmnetCoef\n",
    "from cvglmnetPlot import cvglmnetPlot; from cvglmnetPredict import cvglmnetPredict\n",
    "\n",
    "# glmnet has many deprecation warnings from using scipy.* instad of numpy.*\n",
    "warnings.filterwarnings(\"ignore\", category=DeprecationWarning) \n"
   ]
  },
  {
   "cell_type": "code",
   "execution_count": 2,
   "metadata": {},
   "outputs": [],
   "source": [
    "# Define constants\n",
    "ncores = 28 # 56\n",
    "names = ['DA', '5HT', 'pH', 'NE']\n",
    "data_prefix = '/mnt/nfs/proj/in-vitro/iterate/results_014/model_style_008/training-A-RBE-97Hz/'\n",
    "results_prefix = '/mnt/nfs/proj/in-vitro/Leonardo/glmnet/fits/'\n",
    "good_probes = ['MMA003W01R04', 'MMA004W01R04', 'MMA013W01R04', 'MMA018W01R04', 'MMA019W01R04', \n",
    "          'MMA022W01R04', 'MMA023W01R04', 'MMA024W01R04', 'MMA025W01R04']\n",
    "filter_files = lambda x : x.find('500kohm') == -1 # only get files without the 500kohms resistor\n",
    "\n",
    "nrecords_per_session = 300 # * 4 * 5\n",
    "val_ratio = .1\n",
    "# val_probe = 0 # use this probe for validation, ignores val_split\n",
    "val_probe = -1 # split data randomly\n"
   ]
  },
  {
   "cell_type": "code",
   "execution_count": 3,
   "metadata": {},
   "outputs": [
    {
     "name": "stdout",
     "output_type": "stream",
     "text": [
      "number of voltammograms files 66\n",
      "after filter 36\n",
      "after removing bad probes 36\n",
      "number of train/val files 36\n",
      "(320760, 999) (320760, 4)\n",
      "(35640, 999) (35640, 4)\n",
      "--- 17.064202070236206 seconds ---\n"
     ]
    }
   ],
   "source": [
    "# Load data\n",
    "\n",
    "def load_matlab(vfiles, nrecords_per_session=150, proj_y=lambda x: x):\n",
    "    yv = []\n",
    "    yl = []\n",
    "    for v in vfiles:\n",
    "#         print()\n",
    "#         print(v)\n",
    "        bv = np.array(loadmat(v)['voltammograms'])\n",
    "        bl = np.array(loadmat(v.replace('voltammograms.mat', 'labels.mat'))['labels'])\n",
    "\n",
    "        for (xv, xl) in zip(bv,bl):\n",
    "            a = xv[0][:,:nrecords_per_session].T\n",
    "            a = np.apply_along_axis(np.diff, axis=1, arr=a) \n",
    "            b = xl[0][:nrecords_per_session,:4]\n",
    "            b = np.apply_along_axis(proj_y, axis=1, arr=b) \n",
    "            yv.append(a.astype(np.float64))\n",
    "            yl.append(b.astype(np.float64))\n",
    "\n",
    "    x = np.vstack(yv)\n",
    "    y = np.vstack(yl)\n",
    "    \n",
    "    return x, y\n",
    "\n",
    "start_time = time.time()\n",
    "\n",
    "voltammograms = glob(data_prefix + '/*MMA*/voltammograms.mat')\n",
    "print('number of voltammograms files %d'%len(voltammograms))\n",
    "voltammograms = list(compress(voltammograms, [filter_files(x) for x in voltammograms]))\n",
    "print('after filter %d'%len(voltammograms))\n",
    "\n",
    "if good_probes:\n",
    "    keep = np.array([False]*len(voltammograms))\n",
    "    for probe in good_probes:\n",
    "        keep = keep | np.array([x.find(probe) > -1 for x in voltammograms])\n",
    "    voltammograms = list(compress(voltammograms, keep))\n",
    "    print('after removing bad probes %d'%len(voltammograms))\n",
    "\n",
    "if val_probe < 0:\n",
    "    print('number of train/val files %d'%len(voltammograms))\n",
    "    x, y = load_matlab(voltammograms, nrecords_per_session)\n",
    "\n",
    "    idxs = np.random.permutation(x.shape[0])\n",
    "    lim = int(x.shape[0]*(1-val_ratio))\n",
    "    d1idx = idxs[idxs[:lim]]\n",
    "    d2idx = idxs[idxs[lim:]]\n",
    "    x_train, y_train, x_val, y_val = x[d1idx,:], y[d1idx,:], x[d2idx,:], y[d2idx,:]\n",
    "else:\n",
    "    val_probe = good_probes.pop(val_probe)\n",
    "    \n",
    "    print('validation probe: %s'%val_probe)\n",
    "\n",
    "    val_files = list(compress(voltammograms, [x.find(val_probe) > -1 for x in voltammograms]))\n",
    "    print('number of validation files %d'%len(val_files))\n",
    "    x_val, y_val = load_matlab(val_files, nrecords_per_session)\n",
    "\n",
    "    train_files = list(compress(voltammograms, [x.find(val_probe) == -1 for x in voltammograms]))\n",
    "    print('number of train files %d'%len(train_files))\n",
    "    x_train, y_train = load_matlab(train_files, nrecords_per_session)\n",
    "\n",
    "print(x_train.shape, y_train.shape)\n",
    "print(x_val.shape, y_val.shape)  \n",
    "\n",
    "print(\"--- %s seconds ---\" % (time.time() - start_time))\n"
   ]
  },
  {
   "cell_type": "code",
   "execution_count": 4,
   "metadata": {},
   "outputs": [
    {
     "name": "stderr",
     "output_type": "stream",
     "text": [
      "[status]\tParallel glmnet cv with 28 cores\n"
     ]
    },
    {
     "name": "stdout",
     "output_type": "stream",
     "text": [
      "--- 62750.70887756348 seconds ---\n"
     ]
    }
   ],
   "source": [
    "# fit GLMNET in parallel (ncores) with cross validation to find lambda\n",
    "start_time = time.time()\n",
    "fit = cvglmnet(x = x_train.copy(), y = y_train.copy(), family='mgaussian', parallel=ncores, ptype = 'mse', nfolds = 20)\n",
    "print(\"--- %s seconds ---\" % (time.time() - start_time))"
   ]
  },
  {
   "cell_type": "code",
   "execution_count": 5,
   "metadata": {},
   "outputs": [
    {
     "data": {
      "text/plain": [
       "array([0.02503712])"
      ]
     },
     "execution_count": 5,
     "metadata": {},
     "output_type": "execute_result"
    }
   ],
   "source": [
    "print(fit['lambda_min'])\n",
    "with open(os.path.join(results_prefix, 'mm_all_pulled_random_folding.pickle'), 'wb') as f:\n",
    "    pickle.dump(fit, f)"
   ]
  },
  {
   "cell_type": "code",
   "execution_count": 14,
   "metadata": {},
   "outputs": [
    {
     "data": {
      "text/plain": [
       "dict_keys(['lambdau', 'cvm', 'cvsd', 'cvup', 'cvlo', 'nzero', 'name', 'glmnet_fit', 'lambda_min', 'lambda_1se', 'class'])"
      ]
     },
     "execution_count": 14,
     "metadata": {},
     "output_type": "execute_result"
    }
   ],
   "source": [
    "fit.keys()"
   ]
  },
  {
   "cell_type": "code",
   "execution_count": 18,
   "metadata": {},
   "outputs": [
    {
     "data": {
      "text/plain": [
       "numpy.ndarray"
      ]
     },
     "execution_count": 18,
     "metadata": {},
     "output_type": "execute_result"
    }
   ],
   "source": [
    "fit['cvm'].__class__"
   ]
  },
  {
   "cell_type": "code",
   "execution_count": 12,
   "metadata": {},
   "outputs": [],
   "source": [
    "y_hat = cvglmnetPredict(fit, newx = x_val, s='lambda_min')"
   ]
  },
  {
   "cell_type": "code",
   "execution_count": 13,
   "metadata": {},
   "outputs": [
    {
     "name": "stdout",
     "output_type": "stream",
     "text": [
      "DA: 617.81527\n",
      "5HT: 609.45347\n",
      "pH: 0.10065\n",
      "NE: 526.68220\n"
     ]
    }
   ],
   "source": [
    "for (error, name) in zip(np.mean(np.sqrt((y_hat[:,:,0]-y_val)**2),axis=0),names):\n",
    "    print('%s: %4.5f'%(name,error))"
   ]
  },
  {
   "cell_type": "code",
   "execution_count": null,
   "metadata": {},
   "outputs": [],
   "source": []
  }
 ],
 "metadata": {
  "kernelspec": {
   "display_name": "Python 3",
   "language": "python",
   "name": "python3"
  },
  "language_info": {
   "codemirror_mode": {
    "name": "ipython",
    "version": 3
   },
   "file_extension": ".py",
   "mimetype": "text/x-python",
   "name": "python",
   "nbconvert_exporter": "python",
   "pygments_lexer": "ipython3",
   "version": "3.7.4"
  }
 },
 "nbformat": 4,
 "nbformat_minor": 4
}
