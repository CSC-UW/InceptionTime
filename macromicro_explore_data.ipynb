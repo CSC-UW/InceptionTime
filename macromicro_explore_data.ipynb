{
 "cells": [
  {
   "cell_type": "code",
   "execution_count": 13,
   "metadata": {},
   "outputs": [],
   "source": [
    "from IPython import get_ipython\n",
    "ipython = get_ipython()\n",
    "if '__IPYTHON__' in globals():\n",
    "    ipython.magic('load_ext autoreload')\n",
    "    ipython.magic('autoreload 2')\n",
    "\n",
    "import argparse\n",
    "import os\n",
    "from glob import glob\n",
    "import pickle\n",
    "from itertools import compress\n",
    "\n",
    "%matplotlib widget\n",
    "from matplotlib import pyplot as plt\n",
    "import numpy as np\n",
    "from sklearn.metrics import r2_score\n",
    "from scipy.io import loadmat\n",
    "\n",
    "import tensorflow as tf\n",
    "\n",
    "\n",
    "from mymodels.macromicro_conv_model import load_matlab, shifted_zscore, print_metric, zscore\n",
    "\n",
    "def minmax(x, inverse=False):\n",
    "    xmin = np.array([-1,-1,6.8,-1])\n",
    "    xmax = np.array([4000.,4000.,8.,4000.])\n",
    "    \n",
    "    a = xmax - xmin\n",
    "\n",
    "    if inverse:\n",
    "        x = x*a + xmin\n",
    "    else:\n",
    "        x = (x-xmin)/a\n",
    "\n",
    "    return x\n",
    "\n",
    "# normalize_data = minmax\n",
    "# revert_data = lambda x: minmax(x, inverse=True)\n",
    "\n",
    "# normalize_data = shifted_zscore\n",
    "# revert_data = lambda x: shifted_zscore(x, inverse=True)\n",
    "\n",
    "# normalize_data = zscore\n",
    "# revert_data = lambda x: zscore(x, inverse=True)\n",
    "\n",
    "normalize_data = lambda x: x\n",
    "revert_data = lambda x: x\n"
   ]
  },
  {
   "cell_type": "code",
   "execution_count": 9,
   "metadata": {},
   "outputs": [
    {
     "data": {
      "text/plain": [
       "array([ 9.26681881,  9.26681856, -7.31488353,  9.26681886])"
      ]
     },
     "execution_count": 9,
     "metadata": {},
     "output_type": "execute_result"
    }
   ],
   "source": [
    "# shifted_zscore(np.array([2.89606,2.89606,2.89606,2.89606])/4, inverse=True)\n",
    "shifted_zscore(np.array([2500,2500,7.5,2500])/4)"
   ]
  },
  {
   "cell_type": "code",
   "execution_count": 10,
   "metadata": {},
   "outputs": [],
   "source": [
    "npdt = np.float32\n",
    "\n",
    "names = ['DA', '5HT', 'pH', 'NE']\n",
    "# prefix = '/mnt/nfs/proj/in-vitro/iterate/results_014/model_style_008/training-A-RBE-97Hz/'\n",
    "prefix = '/mnt/nfs/proj/in-vitro/iterate/results_014/model_style_008/training-B-RBE025-97Hz/'\n",
    "\n",
    "probes = ['MMA003W01R04', 'MMA004W01R04', 'MMA013W01R04', 'MMA018W01R04', 'MMA019W01R04', 'MMA022W01R04', 'MMA023W01R04', 'MMA024W01R04', 'MMA025W01R04']\n",
    "# good_probes = ['MMA003W01R04', 'MMA004W01R04', 'MMA013W01R04', 'MMA019W01R04', 'MMA022W01R04', 'MMA024W01R04', 'MMA025W01R04']\n",
    "good_probes = probes\n",
    "filter_files = lambda x : x.find('500kohm') == -1\n",
    "\n",
    "# probes = ['MMA003W01R04', 'MMA004W01R04', 'MMA013W01R04', 'MMA018W01R04', 'MMA019W01R04', 'MMA022W01R04'] # 500 kohms\n",
    "# good_probes = probes\n",
    "# filter_files = lambda x : x.find('500kohm') > -1\n"
   ]
  },
  {
   "cell_type": "code",
   "execution_count": 11,
   "metadata": {},
   "outputs": [
    {
     "name": "stdout",
     "output_type": "stream",
     "text": [
      "number of voltammograms files 36\n",
      "after filter 36\n",
      "\n",
      "number of probe MMA003W01R04s files: 4\n",
      "(39600, 999)\n",
      "(39600, 4)\n",
      "(39600, 999) (39600, 4)\n",
      "number of probe MMA004W01R04s files: 4\n",
      "(39600, 999)\n",
      "(39600, 4)\n",
      "(39600, 999) (39600, 4)\n",
      "number of probe MMA013W01R04s files: 4\n",
      "(39600, 999)\n",
      "(39600, 4)\n",
      "(39600, 999) (39600, 4)\n",
      "number of probe MMA018W01R04s files: 4\n",
      "(39600, 999)\n",
      "(39600, 4)\n",
      "(39600, 999) (39600, 4)\n",
      "number of probe MMA019W01R04s files: 4\n",
      "(39600, 999)\n",
      "(39600, 4)\n",
      "(39600, 999) (39600, 4)\n",
      "number of probe MMA022W01R04s files: 4\n",
      "(39600, 999)\n",
      "(39600, 4)\n",
      "(39600, 999) (39600, 4)\n",
      "number of probe MMA023W01R04s files: 4\n",
      "(39600, 999)\n",
      "(39600, 4)\n",
      "(39600, 999) (39600, 4)\n",
      "number of probe MMA024W01R04s files: 4\n",
      "(39600, 999)\n",
      "(39600, 4)\n",
      "(39600, 999) (39600, 4)\n",
      "number of probe MMA025W01R04s files: 4\n",
      "(39600, 999)\n",
      "(39600, 4)\n",
      "(39600, 999) (39600, 4)\n"
     ]
    }
   ],
   "source": [
    "\n",
    "nrecords_per_session = 300\n",
    "\n",
    "voltammograms = glob(prefix + '/*MMA*/voltammograms.mat')\n",
    "print('number of voltammograms files %d'%len(voltammograms))\n",
    "if not filter_files is None:\n",
    "    voltammograms = list(compress(voltammograms, [filter_files(x) for x in voltammograms]))\n",
    "print('after filter %d'%len(voltammograms))\n",
    "print()\n",
    "\n",
    "probe_data = {}\n",
    "last_conc = None\n",
    "for (iprobe, probe) in enumerate(probes):\n",
    "    probe_files = voltammograms.copy()\n",
    "    probe_files = list(compress(probe_files, [x.find(probe) > -1 for x in probe_files]))\n",
    "    print('number of probe %s''s files: %d'%(probe, len(probe_files)), flush=True)\n",
    "    probe_x, probe_y = load_matlab(probe_files, nrecords_per_session, split=1., asnumpy=True, proj_y=normalize_data)\n",
    "\n",
    "    print(probe_x.shape, probe_y.shape)\n",
    "    ul, ulidx = np.unique(probe_y, return_index=True, axis=0)\n",
    "    if last_conc is not None:\n",
    "        if np.any(ul.flatten() - last_conc.flatten()):\n",
    "            print('%s different'%probe)\n",
    "        last_conb = ul\n",
    "    else:\n",
    "        last_conc = ul\n",
    "    \n",
    "    probe_data[probe] = (probe_x, probe_y)\n"
   ]
  },
  {
   "cell_type": "code",
   "execution_count": 18,
   "metadata": {},
   "outputs": [
    {
     "data": {
      "application/vnd.jupyter.widget-view+json": {
       "model_id": "2e8721673c3049868168add3160347b7",
       "version_major": 2,
       "version_minor": 0
      },
      "text/plain": [
       "Canvas(toolbar=Toolbar(toolitems=[('Home', 'Reset original view', 'home', 'home'), ('Back', 'Back to previous …"
      ]
     },
     "metadata": {},
     "output_type": "display_data"
    },
    {
     "data": {
      "text/plain": [
       "<matplotlib.legend.Legend at 0x2aaba0140a50>"
      ]
     },
     "execution_count": 18,
     "metadata": {},
     "output_type": "execute_result"
    }
   ],
   "source": [
    "import time\n",
    "\n",
    "fig, axs = plt.subplots(tight_layout=True, figsize=(12, 5))\n",
    "\n",
    "# fig,ax = plt.subplots(1,1)\n",
    "# ax.set_xlabel('X')\n",
    "# ax.set_ylabel('Y')\n",
    "# ax.set_xlim(0,1)\n",
    "# ax.set_ylim(0,1)\n",
    "\n",
    "# def pltsin(ax, colors=['b']):\n",
    "#     x = np.linspace(0,1,100)\n",
    "#     if ax.lines:\n",
    "#         for line in ax.lines:\n",
    "#             line.set_xdata(x)\n",
    "#             y = np.random.random(size=(100,1))\n",
    "#             line.set_ydata(y)\n",
    "#     else:\n",
    "#         for color in colors:\n",
    "#             y = np.random.random(size=(100,1))\n",
    "#             ax.plot(x, y, color)\n",
    "#     fig.canvas.draw()\n",
    "    \n",
    "# fig,ax = plt.subplots(1,1)\n",
    "# ax.set_xlabel('X')\n",
    "# ax.set_ylabel('Y')\n",
    "# ax.set_xlim(0,1)\n",
    "# ax.set_ylim(0,1)\n",
    "# for f in range(5):\n",
    "#     pltsin(ax, ['b', 'r'])\n",
    "#     time.sleep(1)\n",
    "    \n",
    "\n",
    "plot_data = np.zeros((list(probe_data.values())[0][0].shape[1], len(good_probes)))\n",
    "for (iprobe, probe) in enumerate(good_probes):\n",
    "    probe_x, probe_y = probe_data[probe]\n",
    "    ul, ulidx = np.unique(probe_y, return_index=True, axis=0)\n",
    "    plot_data[:,iprobe] = np.mean(probe_x[ulidx,:], axis=0)\n",
    "\n",
    "axs.plot(plot_data)\n",
    "# axs.set_ylim(-50, 50)\n",
    "\n",
    "# for shift in range(0,900,5):\n",
    "#     axs.plot(plot_data[:,shift:shift+40], label=probe)\n",
    "#     plt.draw()\n",
    "#     time.sleep(.5)\n",
    "axs.legend(good_probes)"
   ]
  },
  {
   "cell_type": "code",
   "execution_count": 20,
   "metadata": {},
   "outputs": [
    {
     "data": {
      "application/vnd.jupyter.widget-view+json": {
       "model_id": "54fb53a852f24e50a3ed63b499fe506c",
       "version_major": 2,
       "version_minor": 0
      },
      "text/plain": [
       "Canvas(toolbar=Toolbar(toolitems=[('Home', 'Reset original view', 'home', 'home'), ('Back', 'Back to previous …"
      ]
     },
     "metadata": {},
     "output_type": "display_data"
    },
    {
     "data": {
      "application/vnd.jupyter.widget-view+json": {
       "model_id": "8bc8fe44a19b4731b992bd4293d14b5e",
       "version_major": 2,
       "version_minor": 0
      },
      "text/plain": [
       "Canvas(toolbar=Toolbar(toolitems=[('Home', 'Reset original view', 'home', 'home'), ('Back', 'Back to previous …"
      ]
     },
     "metadata": {},
     "output_type": "display_data"
    },
    {
     "data": {
      "application/vnd.jupyter.widget-view+json": {
       "model_id": "5a1c0a737d3b4780b333e37934c69b92",
       "version_major": 2,
       "version_minor": 0
      },
      "text/plain": [
       "Canvas(toolbar=Toolbar(toolitems=[('Home', 'Reset original view', 'home', 'home'), ('Back', 'Back to previous …"
      ]
     },
     "metadata": {},
     "output_type": "display_data"
    },
    {
     "data": {
      "application/vnd.jupyter.widget-view+json": {
       "model_id": "cc497f2811d046f79f56070315ddcee2",
       "version_major": 2,
       "version_minor": 0
      },
      "text/plain": [
       "Canvas(toolbar=Toolbar(toolitems=[('Home', 'Reset original view', 'home', 'home'), ('Back', 'Back to previous …"
      ]
     },
     "metadata": {},
     "output_type": "display_data"
    },
    {
     "data": {
      "application/vnd.jupyter.widget-view+json": {
       "model_id": "b3dbf2db8a1b465da49d354e9c5f8fa5",
       "version_major": 2,
       "version_minor": 0
      },
      "text/plain": [
       "Canvas(toolbar=Toolbar(toolitems=[('Home', 'Reset original view', 'home', 'home'), ('Back', 'Back to previous …"
      ]
     },
     "metadata": {},
     "output_type": "display_data"
    },
    {
     "data": {
      "application/vnd.jupyter.widget-view+json": {
       "model_id": "e23dd9fe2de74496b9f656aa2c40a2ec",
       "version_major": 2,
       "version_minor": 0
      },
      "text/plain": [
       "Canvas(toolbar=Toolbar(toolitems=[('Home', 'Reset original view', 'home', 'home'), ('Back', 'Back to previous …"
      ]
     },
     "metadata": {},
     "output_type": "display_data"
    },
    {
     "data": {
      "application/vnd.jupyter.widget-view+json": {
       "model_id": "1c9c3ee7b78b434ab264172629110067",
       "version_major": 2,
       "version_minor": 0
      },
      "text/plain": [
       "Canvas(toolbar=Toolbar(toolitems=[('Home', 'Reset original view', 'home', 'home'), ('Back', 'Back to previous …"
      ]
     },
     "metadata": {},
     "output_type": "display_data"
    },
    {
     "data": {
      "application/vnd.jupyter.widget-view+json": {
       "model_id": "5c383e6bd00d4c7194ab4fe1c1f113f7",
       "version_major": 2,
       "version_minor": 0
      },
      "text/plain": [
       "Canvas(toolbar=Toolbar(toolitems=[('Home', 'Reset original view', 'home', 'home'), ('Back', 'Back to previous …"
      ]
     },
     "metadata": {},
     "output_type": "display_data"
    },
    {
     "data": {
      "application/vnd.jupyter.widget-view+json": {
       "model_id": "c48a97f3716e4a95b173e55a708fb03e",
       "version_major": 2,
       "version_minor": 0
      },
      "text/plain": [
       "Canvas(toolbar=Toolbar(toolitems=[('Home', 'Reset original view', 'home', 'home'), ('Back', 'Back to previous …"
      ]
     },
     "metadata": {},
     "output_type": "display_data"
    }
   ],
   "source": [
    "for (iprobe, probe) in enumerate(good_probes):\n",
    "    probe_x, probe_y = probe_data[probe]\n",
    "\n",
    "    ul, ulidx = np.unique(probe_y, return_index=True, axis=0)\n",
    "    \n",
    "    fig, axs = plt.subplots(tight_layout=True, figsize=(12, 5))\n",
    "\n",
    "    for idx in ulidx:\n",
    "        axs.plot(probe_x[idx,:])\n",
    "    axs.set_title(probe)\n",
    "#     axs[iprobe].set_ylim(-50, 50)\n"
   ]
  },
  {
   "cell_type": "code",
   "execution_count": 12,
   "metadata": {},
   "outputs": [
    {
     "name": "stdout",
     "output_type": "stream",
     "text": [
      "MMA003W01R04 [-9.4523779e+03 -9.4524736e+03  4.2099996e+00 -9.4524160e+03]\n",
      "MMA003W01R04 [1.0397461e+03 1.0397556e+03 3.1908679e-01 1.0397499e+03]\n",
      "\n",
      "MMA004W01R04 [-9.4526260e+03 -9.4525010e+03  4.2099996e+00 -9.4528340e+03]\n",
      "MMA004W01R04 [1.0397694e+03 1.0397570e+03 3.1908679e-01 1.0397903e+03]\n",
      "\n",
      "MMA013W01R04 [-9.4526797e+03 -9.4525918e+03  4.2099996e+00 -9.4525947e+03]\n",
      "MMA013W01R04 [1.0397756e+03 1.0397668e+03 3.1908679e-01 1.0397671e+03]\n",
      "\n",
      "MMA018W01R04 [-9.4526650e+03 -9.4525146e+03  4.2099996e+00 -9.4527832e+03]\n",
      "MMA018W01R04 [1.0397733e+03 1.0397583e+03 3.1908679e-01 1.0397852e+03]\n",
      "\n",
      "MMA019W01R04 [-9.4526260e+03 -9.4525010e+03  4.2099996e+00 -9.4528340e+03]\n",
      "MMA019W01R04 [1.0397694e+03 1.0397570e+03 3.1908679e-01 1.0397903e+03]\n",
      "\n",
      "MMA022W01R04 [-9.4525205e+03 -9.4525527e+03  4.2099996e+00 -9.4525352e+03]\n",
      "MMA022W01R04 [1.0397604e+03 1.0397635e+03 3.1908679e-01 1.0397618e+03]\n",
      "\n",
      "MMA023W01R04 [-9.4523213e+03 -9.4524355e+03  4.2099996e+00 -9.4524072e+03]\n",
      "MMA023W01R04 [1.0397405e+03 1.0397518e+03 3.1908679e-01 1.0397490e+03]\n",
      "\n",
      "MMA024W01R04 [-9.4527861e+03 -9.4526719e+03  4.2099996e+00 -9.4526719e+03]\n",
      "MMA024W01R04 [1.0397863e+03 1.0397748e+03 3.1908679e-01 1.0397748e+03]\n",
      "\n",
      "MMA025W01R04 [-9.4525410e+03 -9.4526006e+03  4.2099996e+00 -9.4524375e+03]\n",
      "MMA025W01R04 [1.0397617e+03 1.0397677e+03 3.1908679e-01 1.0397513e+03]\n",
      "\n"
     ]
    },
    {
     "data": {
      "image/png": "[encoded data removed]",
      "text/plain": [
       "<Figure size 720x720 with 4 Axes>"
      ]
     },
     "metadata": {
      "needs_background": "light"
     },
     "output_type": "display_data"
    }
   ],
   "source": [
    "fig, axs = plt.subplots(2, 2, sharey=False, sharex=False, tight_layout=True)\n",
    "fig.set_size_inches(10,10)\n",
    "\n",
    "last_probe_y = None\n",
    "for probe in good_probes:\n",
    "    _ , probe_y = probe_data[probe]\n",
    "\n",
    "#     print(probe, np.mean(probe_y, axis=0))\n",
    "#     print(probe, np.std(probe_y, axis=0))\n",
    "    \n",
    "    std = np.std(probe_y, axis=0)\n",
    "    print(probe, np.mean(probe_y, axis=0)-10*std)\n",
    "    print(probe, std)\n",
    "\n",
    "    print()\n",
    "\n",
    "#     zeros = normalize_data(np.zeros(4))\n",
    "    for ic in range(0,4):\n",
    "        idx = np.unravel_index(ic, axs.shape)\n",
    "        x = probe_y[:,ic]\n",
    "        axs[idx].hist(x, alpha=.2)"
   ]
  },
  {
   "cell_type": "code",
   "execution_count": 8,
   "metadata": {},
   "outputs": [
    {
     "data": {
      "text/plain": [
       "537.5801684400197"
      ]
     },
     "execution_count": 8,
     "metadata": {},
     "output_type": "execute_result"
    }
   ],
   "source": [
    "np.sqrt(288992.4375)"
   ]
  },
  {
   "cell_type": "code",
   "execution_count": 9,
   "metadata": {},
   "outputs": [
    {
     "data": {
      "text/plain": [
       "464.06932735443115"
      ]
     },
     "execution_count": 9,
     "metadata": {},
     "output_type": "execute_result"
    }
   ],
   "source": [
    "(693.100830078125 + 639.6287231445312 + 7.405788421630859 + 516.1419677734375)/4"
   ]
  },
  {
   "cell_type": "code",
   "execution_count": null,
   "metadata": {},
   "outputs": [],
   "source": []
  }
 ],
 "metadata": {
  "kernelspec": {
   "display_name": "Python 3",
   "language": "python",
   "name": "python3"
  },
  "language_info": {
   "codemirror_mode": {
    "name": "ipython",
    "version": 3
   },
   "file_extension": ".py",
   "mimetype": "text/x-python",
   "name": "python",
   "nbconvert_exporter": "python",
   "pygments_lexer": "ipython3",
   "version": "3.7.4"
  }
 },
 "nbformat": 4,
 "nbformat_minor": 4
}
