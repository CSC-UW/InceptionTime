{
 "cells": [
  {
   "cell_type": "code",
   "execution_count": 1,
   "metadata": {},
   "outputs": [
    {
     "name": "stdout",
     "output_type": "stream",
     "text": [
      "WARNING:tensorflow:From /opt/apps/software/TensorFlow/2.2.0-fosscuda-2019b-Python-3.7.4/lib/python3.7/site-packages/tensorflow/python/compat/v2_compat.py:96: disable_resource_variables (from tensorflow.python.ops.variable_scope) is deprecated and will be removed in a future version.\n",
      "Instructions for updating:\n",
      "non-resource variables are not supported in the long term\n"
     ]
    },
    {
     "name": "stderr",
     "output_type": "stream",
     "text": [
      "Using TensorFlow backend.\n"
     ]
    }
   ],
   "source": [
    "import sys\n",
    "import os\n",
    "import re\n",
    "#sys.path = [p for p in sys.path if p.find('/opt/apps/software/') == -1]\n",
    "from glob import glob\n",
    "from IPython.display import display, HTML\n",
    "%matplotlib widget\n",
    "from matplotlib import pyplot as plt\n",
    "\n",
    "from utils.constants import UNIVARIATE_ARCHIVE_NAMES as ARCHIVE_NAMES\n",
    "from utils.constants import UNIVARIATE_DATASET_NAMES as DATASET_NAMES\n",
    "from utils.utils import read_all_datasets, transform_labels, create_directory, run_length_xps, generate_results_csv, plot_epochs_metric\n",
    "from utils.data_loading import get_multiple_data_cf, predict, shifted_zscore_cf, zscore, print_metric, tf_rmse, tf_pmse_cf, rmse\n",
    "import utils\n",
    "from classifiers import inception\n",
    "\n",
    "import numpy as np\n",
    "import pandas as pd\n",
    "import sklearn\n",
    "\n",
    "# os.environ[\"CUDA_VISIBLE_DEVICES\"] = \"0,1\"\n",
    "os.environ[\"CUDA_VISIBLE_DEVICES\"] = \"0\"\n",
    "\n",
    "def tf_pmse_DA(y_true, y_pred):\n",
    "    return tf_pmse_cf(y_true, y_pred, idx=0)\n",
    "\n",
    "def tf_pmse_5HT(y_true, y_pred):\n",
    "    return tf_pmse_cf(y_true, y_pred, idx=1)\n",
    "\n",
    "def tf_pmse_pH(y_true, y_pred):\n",
    "    return tf_pmse_cf(y_true, y_pred, idx=2)\n",
    "\n",
    "def tf_pmse_NE(y_true, y_pred):\n",
    "    return tf_pmse_cf(y_true, y_pred, idx=3)\n",
    "\n",
    "# import keras\n",
    "# keras.backend.tensorflow_backend._get_available_gpus()"
   ]
  },
  {
   "cell_type": "code",
   "execution_count": 2,
   "metadata": {},
   "outputs": [
    {
     "name": "stdout",
     "output_type": "stream",
     "text": [
      "Leaving out probe CF081\n",
      "Validation probe CF025\n",
      "Loading data\n",
      "loading probe CF025\n",
      "loading probe CF027\n",
      "loading probe CF057\n",
      "loading probe CF064\n",
      "loading probe CF066\n",
      "loading probe CF078\n",
      "loading probe CF081\n",
      "loading probe CF082\n",
      "Shuffling training dataset\n",
      "Data loaded\n",
      "adding singleton\n"
     ]
    }
   ],
   "source": [
    "names = ['DA', '5HT', 'pH', 'NE']\n",
    "speed = 'slow'\n",
    "data_prefix = '/mnt/nfs/proj/in-vitro/Leonardo/cf_data'\n",
    "\n",
    "probes = [\n",
    "    'CF025', 'CF027', 'CF057', 'CF064', 'CF066', 'CF078', 'CF081', 'CF082'\n",
    "]\n",
    "\n",
    "hold_probe = probes[6]\n",
    "output_directory = f'/mnt/nfs/proj/in-vitro/Leonardo/inception/results/cf/{hold_probe}/'\n",
    "\n",
    "if not (os.path.exists(output_directory)):\n",
    "    os.makedirs(output_directory, exist_ok=True)\n",
    "\n",
    "# val_probe=None\n",
    "val_probe=probes[0]\n",
    "\n",
    "print(f'Leaving out probe {hold_probe}', flush=True)\n",
    "print(f'Validation probe {val_probe}', flush=True)\n",
    "print(f'Loading data', flush=True)\n",
    "\n",
    "# normalize_data = minmax\n",
    "# revert_data = lambda x: minmax(x, inverse=True)\n",
    "\n",
    "normalize_data = shifted_zscore_cf\n",
    "revert_data = lambda x: shifted_zscore_cf(x, inverse=True)\n",
    "\n",
    "# normalize_data = lambda x: x\n",
    "# revert_data = lambda x: x\n",
    "\n",
    "# this is actually the number of records per UNIQUE CONCENTRATIONS per probe\n",
    "n_records_per_probe = -1 # all\n",
    "# n_records_per_probe = 1\n",
    "\n",
    "x_train, y_train, x_val, y_val, x_test, y_test = get_multiple_data_cf(data_prefix,\n",
    "                                                                      probes=probes,\n",
    "                                                                      hold_probe=hold_probe,\n",
    "                                                                      val_probe=val_probe,\n",
    "                                                                      normalize_data=normalize_data,\n",
    "                                                                      n_records_per_probe=n_records_per_probe)\n",
    "\n",
    "print('Data loaded')\n",
    "\n",
    "if len(x_train.shape) == 2:  # if univariate\n",
    "    print('adding singleton')\n",
    "    # add a dimension to make it multivariate with one dimension\n",
    "    x_train = x_train.reshape((x_train.shape[0], x_train.shape[1], 1))\n",
    "    x_val = x_val.reshape((x_val.shape[0], x_val.shape[1], 1))\n",
    "    x_test = x_test.reshape((x_test.shape[0], x_test.shape[1], 1))\n",
    "\n",
    "output_shape = y_train.shape[1]\n",
    "input_shape = x_train.shape[1:]\n"
   ]
  },
  {
   "cell_type": "code",
   "execution_count": 3,
   "metadata": {},
   "outputs": [
    {
     "name": "stdout",
     "output_type": "stream",
     "text": [
      "(369900, 999, 1)\n",
      "(369900, 4)\n",
      "(61650, 999, 1)\n",
      "(61650, 4)\n",
      "(61650, 999, 1)\n",
      "(61650, 4)\n",
      "4\n",
      "(999, 1)\n"
     ]
    }
   ],
   "source": [
    "for x in [x_train, y_train, x_val, y_val, x_test, y_test]:\n",
    "    print(x.shape)\n",
    "print(output_shape)\n",
    "print(input_shape)"
   ]
  },
  {
   "cell_type": "code",
   "execution_count": null,
   "metadata": {},
   "outputs": [
    {
     "name": "stdout",
     "output_type": "stream",
     "text": [
      "INFO:tensorflow:Using MirroredStrategy with devices ('/replica:0/task:0/device:GPU:0',)\n",
      "starting model from scratch...\n",
      "Using metrics:  [<function tf_pmse_DA at 0x2aab9ad68050>, <function tf_pmse_5HT at 0x2aab9accbe60>, <function tf_pmse_pH at 0x2aab9af318c0>, <function tf_pmse_NE at 0x2aab9af31ef0>]\n",
      "mini batch size: 64\n",
      "Train on 369900 samples, validate on 61650 samples\n",
      "Epoch 1/10\n",
      "369900/369900 [==============================] - 337s 911us/step - loss: 0.4311 - tf_pmse_DA: 481.2130 - tf_pmse_5HT: 440.7294 - tf_pmse_pH: 0.0757 - tf_pmse_NE: 539.7919 - val_loss: 0.6422 - val_tf_pmse_DA: 590.9666 - val_tf_pmse_5HT: 889.8551 - val_tf_pmse_pH: 0.1213 - val_tf_pmse_NE: 918.6835\n",
      "Epoch 2/10\n",
      "369900/369900 [==============================] - 327s 885us/step - loss: 0.0583 - tf_pmse_DA: 274.5407 - tf_pmse_5HT: 242.0410 - tf_pmse_pH: 0.0396 - tf_pmse_NE: 293.6669 - val_loss: 1.2273 - val_tf_pmse_DA: 441.7039 - val_tf_pmse_5HT: 693.6598 - val_tf_pmse_pH: 0.2458 - val_tf_pmse_NE: 1082.8012\n",
      "Epoch 3/10\n",
      "369900/369900 [==============================] - 327s 885us/step - loss: 0.0406 - tf_pmse_DA: 233.6412 - tf_pmse_5HT: 195.0434 - tf_pmse_pH: 0.0324 - tf_pmse_NE: 250.1800 - val_loss: 0.6821 - val_tf_pmse_DA: 416.3465 - val_tf_pmse_5HT: 473.5661 - val_tf_pmse_pH: 0.1822 - val_tf_pmse_NE: 670.1504\n",
      "Epoch 4/10\n",
      "369900/369900 [==============================] - 327s 885us/step - loss: 0.0321 - tf_pmse_DA: 207.8293 - tf_pmse_5HT: 170.7620 - tf_pmse_pH: 0.0289 - tf_pmse_NE: 222.3532 - val_loss: 0.2463 - val_tf_pmse_DA: 565.2759 - val_tf_pmse_5HT: 316.3136 - val_tf_pmse_pH: 0.0624 - val_tf_pmse_NE: 549.6711\n",
      "Epoch 5/10\n",
      "369900/369900 [==============================] - 327s 885us/step - loss: 0.0263 - tf_pmse_DA: 185.5632 - tf_pmse_5HT: 152.7050 - tf_pmse_pH: 0.0265 - tf_pmse_NE: 200.0597 - val_loss: 0.3019 - val_tf_pmse_DA: 600.4671 - val_tf_pmse_5HT: 243.4636 - val_tf_pmse_pH: 0.0549 - val_tf_pmse_NE: 849.9855\n",
      "Epoch 6/10\n",
      "369900/369900 [==============================] - 326s 881us/step - loss: 0.0219 - tf_pmse_DA: 170.0417 - tf_pmse_5HT: 135.2178 - tf_pmse_pH: 0.0244 - tf_pmse_NE: 183.4661 - val_loss: 0.1620 - val_tf_pmse_DA: 410.3328 - val_tf_pmse_5HT: 247.2654 - val_tf_pmse_pH: 0.0531 - val_tf_pmse_NE: 455.2952\n",
      "Epoch 7/10\n",
      "369900/369900 [==============================] - 326s 880us/step - loss: 0.0192 - tf_pmse_DA: 158.2313 - tf_pmse_5HT: 127.7611 - tf_pmse_pH: 0.0230 - tf_pmse_NE: 171.5688 - val_loss: 0.2597 - val_tf_pmse_DA: 414.7934 - val_tf_pmse_5HT: 305.3730 - val_tf_pmse_pH: 0.0867 - val_tf_pmse_NE: 511.8467\n",
      "Epoch 8/10\n",
      " 88448/369900 [======>.......................] - ETA: 3:56 - loss: 0.0179 - tf_pmse_DA: 150.0901 - tf_pmse_5HT: 120.4500 - tf_pmse_pH: 0.0226 - tf_pmse_NE: 164.7516"
     ]
    }
   ],
   "source": [
    "# Fit inception time the model\n",
    "\n",
    "# classifier = inception.Regression_INCEPTION(output_directory, input_shape, output_shape, verbose=1, build=True, nb_epochs=10, metrics='CF')\n",
    "classifier = inception.Regression_INCEPTION(output_directory, input_shape, output_shape, verbose=1, build=True, nb_epochs=10, \n",
    "                                            metrics=[tf_pmse_DA, tf_pmse_5HT, tf_pmse_pH, tf_pmse_NE])\n",
    "# classifier = Regression_INCEPTION(output_directory, input_shape, output_shape, verbose=1, build=True, nb_epochs=100)\n",
    "\n",
    "metrics = classifier.fit(x_train, y_train, x_val, y_val, plot_test_acc=True)\n",
    "\n",
    "display(HTML(metrics.to_html()))\n"
   ]
  },
  {
   "cell_type": "code",
   "execution_count": 7,
   "metadata": {},
   "outputs": [],
   "source": [
    "# Hold CF082, validation CF025, all data, 100 epochs\n",
    "# Epoch 1/100\n",
    "# 369900/369900 [==============================] - 332s 897us/step - loss: 0.3839 - tf_pmse_DA: 488.6883 - tf_pmse_5HT: 418.8771 - tf_pmse_pH: 0.0728 - tf_pmse_NE: 545.8939 - val_loss: 0.9853 - val_tf_pmse_DA: 879.1813 - val_tf_pmse_5HT: 389.8340 - val_tf_pmse_pH: 0.1891 - val_tf_pmse_NE: 1166.5785\n",
    "# Epoch 10/100\n",
    "# 369900/369900 [==============================] - 324s 875us/step - loss: 0.0139 - tf_pmse_DA: 132.5645 - tf_pmse_5HT: 111.5507 - tf_pmse_pH: 0.0200 - tf_pmse_NE: 139.9987 - val_loss: 0.1967 - val_tf_pmse_DA: 340.3430 - val_tf_pmse_5HT: 337.9328 - val_tf_pmse_pH: 0.0613 - val_tf_pmse_NE: 453.8609\n",
    "# Epoch 97/100\n",
    "# 369900/369900 [==============================] - 323s 872us/step - loss: 0.0021 - tf_pmse_DA: 50.4458 - tf_pmse_5HT: 46.5694 - tf_pmse_pH: 0.0077 - tf_pmse_NE: 54.5813 - val_loss: 0.1685 - val_tf_pmse_DA: 356.7854 - val_tf_pmse_5HT: 305.9508 - val_tf_pmse_pH: 0.0534 - val_tf_pmse_NE: 400.9060\n",
    "# Epoch 100/100\n",
    "# 369900/369900 [==============================] - 322s 871us/step - loss: 0.0020 - tf_pmse_DA: 49.6475 - tf_pmse_5HT: 46.6628 - tf_pmse_pH: 0.0076 - tf_pmse_NE: 53.9088 - val_loss: 0.2012 - val_tf_pmse_DA: 375.4945 - val_tf_pmse_5HT: 356.6755 - val_tf_pmse_pH: 0.0558 - val_tf_pmse_NE: 441.8727\n",
    "# predicting validation set... \n",
    "# \trmse_DA \trmse_5HT \trmse_pH \trmse_NE \tduration\n",
    "# 0 \t483.575696 \t504.289784 \t0.072682 \t604.31947 \t32320.917521"
   ]
  },
  {
   "cell_type": "code",
   "execution_count": 53,
   "metadata": {},
   "outputs": [
    {
     "data": {
      "text/html": [
       "<table border=\"1\" class=\"dataframe\">\n",
       "  <thead>\n",
       "    <tr style=\"text-align: right;\">\n",
       "      <th></th>\n",
       "      <th>rmse_DA</th>\n",
       "      <th>rmse_5HT</th>\n",
       "      <th>rmse_pH</th>\n",
       "      <th>rmse_NE</th>\n",
       "      <th>duration</th>\n",
       "    </tr>\n",
       "  </thead>\n",
       "  <tbody>\n",
       "    <tr>\n",
       "      <th>0</th>\n",
       "      <td>289.592247</td>\n",
       "      <td>148.701677</td>\n",
       "      <td>0.082032</td>\n",
       "      <td>416.473678</td>\n",
       "      <td>0.0</td>\n",
       "    </tr>\n",
       "  </tbody>\n",
       "</table>"
      ],
      "text/plain": [
       "<IPython.core.display.HTML object>"
      ]
     },
     "metadata": {},
     "output_type": "display_data"
    }
   ],
   "source": [
    "metrics = classifier.predict(x_test, y_test, x_train, y_train, return_df_metrics=True)\n",
    "display(HTML(metrics.to_html()))\n",
    "\n",
    "# Hold CF082, validation CF025, all data, 100 epochs\n",
    "# rmse_DA \trmse_5HT \trmse_pH \trmse_NE \tduration\n",
    "# 289.592247 \t148.701677 \t0.082032 \t416.473678 \t0.0"
   ]
  },
  {
   "cell_type": "code",
   "execution_count": 55,
   "metadata": {},
   "outputs": [
    {
     "name": "stdout",
     "output_type": "stream",
     "text": [
      "/mnt/nfs/proj/in-vitro/Leonardo/inception/results/cf/CF082/best_model.hdf5\n"
     ]
    },
    {
     "data": {
      "text/html": [
       "<table border=\"1\" class=\"dataframe\">\n",
       "  <thead>\n",
       "    <tr style=\"text-align: right;\">\n",
       "      <th></th>\n",
       "      <th>rmse_DA</th>\n",
       "      <th>rmse_5HT</th>\n",
       "      <th>rmse_pH</th>\n",
       "      <th>rmse_NE</th>\n",
       "      <th>duration</th>\n",
       "    </tr>\n",
       "  </thead>\n",
       "  <tbody>\n",
       "    <tr>\n",
       "      <th>0</th>\n",
       "      <td>289.592247</td>\n",
       "      <td>148.701677</td>\n",
       "      <td>0.082032</td>\n",
       "      <td>416.473678</td>\n",
       "      <td>0.0</td>\n",
       "    </tr>\n",
       "  </tbody>\n",
       "</table>"
      ],
      "text/plain": [
       "<IPython.core.display.HTML object>"
      ]
     },
     "metadata": {},
     "output_type": "display_data"
    }
   ],
   "source": [
    "\n",
    "model_path = os.path.join(classifier.output_directory, 'best_model.hdf5')\n",
    "# model_path = os.path.join(classifier.output_directory, 'last_model.hdf5')\n",
    "# model_path = os.path.join(classifier.output_directory, 'model_init.hdf5')\n",
    "\n",
    "print(model_path)\n",
    "\n",
    "model = keras.models.load_model(model_path, custom_objects={\"tf_pmse_DA\": tf_pmse_DA, \"tf_pmse_5HT\": tf_pmse_5HT, \"tf_pmse_pH\": tf_pmse_pH, \"tf_pmse_NE\": tf_pmse_NE})\n",
    "\n",
    "xt, yt = x_test, y_test\n",
    "# xt, yt = x_val, y_val\n",
    "\n",
    "yp = model.predict(xt, batch_size=64)\n",
    "\n",
    "yp = np.apply_along_axis(revert_data, axis=1, arr=yp) \n",
    "yt = np.apply_along_axis(revert_data, axis=1, arr=yt) \n",
    "\n",
    "rmse4 = rmse(yt, yp)\n",
    "\n",
    "metrics2 = pd.DataFrame(data=np.zeros((1, 5), dtype=np.float), index=[0], columns=['rmse_DA', 'rmse_5HT', 'rmse_pH', 'rmse_NE', 'duration'])\n",
    "metrics2['rmse_DA'] = rmse4[0]\n",
    "metrics2['rmse_5HT'] = rmse4[1]\n",
    "metrics2['rmse_pH'] = rmse4[2]\n",
    "metrics2['rmse_NE'] = rmse4[3]\n",
    "metrics2['duration'] = 0.0\n",
    "        \n",
    "display(HTML(metrics2.to_html()))\n"
   ]
  },
  {
   "cell_type": "code",
   "execution_count": 52,
   "metadata": {},
   "outputs": [
    {
     "data": {
      "application/vnd.jupyter.widget-view+json": {
       "model_id": "2fd813f32b414275b1eb6a353e1e2172",
       "version_major": 2,
       "version_minor": 0
      },
      "text/plain": [
       "Canvas(toolbar=Toolbar(toolitems=[('Home', 'Reset original view', 'home', 'home'), ('Back', 'Back to previous …"
      ]
     },
     "metadata": {},
     "output_type": "display_data"
    }
   ],
   "source": [
    "# def plot_concentrations(y):\n",
    "#     fig, axs = plt.subplots(2, 2, sharey=False, tight_layout=True)\n",
    "#     for ip in range(0,4):\n",
    "#         axs[np.unravel_index(ip, axs.shape)].hist(y[:,ip])\n",
    "# plot_concentrations(y_test)\n",
    "# plot_concentrations(y_pred)\n",
    "\n",
    "def plot_compare_test_pred(yt, yp):\n",
    "    fig, axs = plt.subplots(2, 4, sharey=False, tight_layout=True, figsize=(12, 5))\n",
    "    for ip in range(0,8):\n",
    "        axsidx = np.unravel_index(ip, axs.shape)\n",
    "        if ip < 4:\n",
    "            axs[axsidx].hist(yt[:,ip])\n",
    "        else:\n",
    "            axs[axsidx].hist(yp[:,ip-4])\n",
    "\n",
    "plot_compare_test_pred(yt, yp)\n",
    "plt.show()"
   ]
  },
  {
   "cell_type": "code",
   "execution_count": null,
   "metadata": {},
   "outputs": [],
   "source": []
  }
 ],
 "metadata": {
  "kernelspec": {
   "display_name": "Python 3",
   "language": "python",
   "name": "python3"
  },
  "language_info": {
   "codemirror_mode": {
    "name": "ipython",
    "version": 3
   },
   "file_extension": ".py",
   "mimetype": "text/x-python",
   "name": "python",
   "nbconvert_exporter": "python",
   "pygments_lexer": "ipython3",
   "version": "3.7.4"
  }
 },
 "nbformat": 4,
 "nbformat_minor": 4
}
