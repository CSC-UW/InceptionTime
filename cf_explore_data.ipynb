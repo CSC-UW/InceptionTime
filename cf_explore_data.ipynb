{
 "cells": [
  {
   "cell_type": "code",
   "execution_count": 4,
   "metadata": {},
   "outputs": [],
   "source": [
    "%matplotlib widget\n",
    "from IPython import get_ipython\n",
    "ipython = get_ipython()\n",
    "if '__IPYTHON__' in globals():\n",
    "    ipython.magic('load_ext autoreload')\n",
    "    ipython.magic('autoreload 2')\n",
    "\n",
    "import argparse\n",
    "import os\n",
    "from glob import glob\n",
    "import pickle\n",
    "from itertools import compress\n",
    "\n",
    "from matplotlib import pyplot as plt\n",
    "import numpy as np\n",
    "from sklearn.metrics import r2_score\n",
    "from scipy.io import loadmat\n",
    "\n",
    "import tensorflow as tf\n",
    "\n",
    "\n",
    "from mymodels.macromicro_conv_model import load_matlab, shifted_zscore, print_metric, zscore\n",
    "\n",
    "def minmax(x, inverse=False):\n",
    "    xmin = np.array([-1,-1,6.8,-1])\n",
    "    xmax = np.array([4000.,4000.,8.,4000.])\n",
    "    \n",
    "    a = xmax - xmin\n",
    "\n",
    "    if inverse:\n",
    "        x = x*a + xmin\n",
    "    else:\n",
    "        x = (x-xmin)/a\n",
    "\n",
    "    return x\n",
    "\n",
    "\n",
    "# normalize_data = minmax\n",
    "# revert_data = lambda x: minmax(x, inverse=True)\n",
    "\n",
    "# normalize_data = shifted_zscore_cf\n",
    "# revert_data = lambda x: shifted_zscore_cf(x, inverse=True)\n",
    "\n",
    "normalize_data = lambda x: x\n",
    "revert_data = lambda x: x\n",
    "\n",
    "# this is actually the number of records per UNIQUE CONCENTRATIONS per probe\n",
    "n_records_per_probe = -1 # all\n",
    "# n_records_per_probe = 1\n",
    "\n"
   ]
  },
  {
   "cell_type": "code",
   "execution_count": 8,
   "metadata": {},
   "outputs": [
    {
     "name": "stdout",
     "output_type": "stream",
     "text": [
      "loading probe CF025\n",
      "loading probe CF027\n",
      "CF027 different\n",
      "loading probe CF057\n",
      "CF057 different\n",
      "loading probe CF064\n",
      "CF064 different\n",
      "loading probe CF066\n",
      "CF066 different\n",
      "loading probe CF078\n",
      "CF078 different\n",
      "loading probe CF081\n",
      "CF081 different\n",
      "loading probe CF082\n"
     ]
    }
   ],
   "source": [
    "\n",
    "names = ['DA', '5HT', 'pH', 'NE']\n",
    "speed = 'slow'\n",
    "prefix = '/mnt/nfs/proj/in-vitro/Leonardo/cf_data'\n",
    "\n",
    "good_probes = [\n",
    "    'CF025', 'CF027', 'CF057', 'CF064', 'CF066', 'CF078', 'CF081', 'CF082'\n",
    "]\n",
    "\n",
    "probe_data = {}\n",
    "last_conc = None\n",
    "for (iprobe, probe) in enumerate(good_probes):\n",
    "\n",
    "    print('loading probe %s'%probe)\n",
    "    probe_file = os.path.join(prefix, f'{probe}.npz')\n",
    "    np_probe = np.load(probe_file)\n",
    "    x_probe = np_probe['x']\n",
    "    y_probe = np_probe['y']\n",
    "\n",
    "    # get n unique records per label\n",
    "    if n_records_per_probe > -1:\n",
    "        _, ulidx = np.unique(y_probe, return_index=True, axis=0)\n",
    "        u_x = []\n",
    "        u_y = []\n",
    "        for idx in ulidx:\n",
    "            all_idx = np.where((y_probe == y_probe[idx,:]).all(axis=1))[0]\n",
    "            u_x.append(x_probe[all_idx[:n_records_per_probe], :])\n",
    "            u_y.append(y_probe[all_idx[:n_records_per_probe], :])\n",
    "        x_probe = np.concatenate(u_x)\n",
    "        y_probe = np.concatenate(u_y)\n",
    "\n",
    "    y_probe = np.apply_along_axis(normalize_data, axis=1, arr=y_probe) \n",
    "\n",
    "    ul, ulidx = np.unique(y_probe, return_index=True, axis=0)\n",
    "    if last_conc is not None:\n",
    "        if np.any(ul.flatten() - last_conc.flatten()):\n",
    "            print('%s different'%probe)\n",
    "        last_conb = ul\n",
    "    else:\n",
    "        last_conc = ul\n",
    "    \n",
    "    probe_data[probe] = (x_probe, y_probe)\n"
   ]
  },
  {
   "cell_type": "code",
   "execution_count": 9,
   "metadata": {},
   "outputs": [
    {
     "data": {
      "application/vnd.jupyter.widget-view+json": {
       "model_id": "e7c6c01d6256414c8fba80888e019fd6",
       "version_major": 2,
       "version_minor": 0
      },
      "text/plain": [
       "Canvas(toolbar=Toolbar(toolitems=[('Home', 'Reset original view', 'home', 'home'), ('Back', 'Back to previous …"
      ]
     },
     "metadata": {},
     "output_type": "display_data"
    },
    {
     "data": {
      "text/plain": [
       "<matplotlib.legend.Legend at 0x2aac106bb150>"
      ]
     },
     "execution_count": 9,
     "metadata": {},
     "output_type": "execute_result"
    }
   ],
   "source": [
    "import time\n",
    "\n",
    "fig, axs = plt.subplots(tight_layout=True, figsize=(12, 5))\n",
    "\n",
    "# fig,ax = plt.subplots(1,1)\n",
    "# ax.set_xlabel('X')\n",
    "# ax.set_ylabel('Y')\n",
    "# ax.set_xlim(0,1)\n",
    "# ax.set_ylim(0,1)\n",
    "\n",
    "# def pltsin(ax, colors=['b']):\n",
    "#     x = np.linspace(0,1,100)\n",
    "#     if ax.lines:\n",
    "#         for line in ax.lines:\n",
    "#             line.set_xdata(x)\n",
    "#             y = np.random.random(size=(100,1))\n",
    "#             line.set_ydata(y)\n",
    "#     else:\n",
    "#         for color in colors:\n",
    "#             y = np.random.random(size=(100,1))\n",
    "#             ax.plot(x, y, color)\n",
    "#     fig.canvas.draw()\n",
    "    \n",
    "# fig,ax = plt.subplots(1,1)\n",
    "# ax.set_xlabel('X')\n",
    "# ax.set_ylabel('Y')\n",
    "# ax.set_xlim(0,1)\n",
    "# ax.set_ylim(0,1)\n",
    "# for f in range(5):\n",
    "#     pltsin(ax, ['b', 'r'])\n",
    "#     time.sleep(1)\n",
    "    \n",
    "\n",
    "plot_data = np.zeros((list(probe_data.values())[0][0].shape[1], len(good_probes)))\n",
    "for (iprobe, probe) in enumerate(good_probes):\n",
    "    probe_x, probe_y = probe_data[probe]\n",
    "    ul, ulidx = np.unique(probe_y, return_index=True, axis=0)\n",
    "    plot_data[:,iprobe] = np.mean(probe_x[ulidx,:], axis=0)\n",
    "\n",
    "axs.plot(plot_data)\n",
    "# axs.set_ylim(-50, 50)\n",
    "\n",
    "# for shift in range(0,900,5):\n",
    "#     axs.plot(plot_data[:,shift:shift+40], label=probe)\n",
    "#     plt.draw()\n",
    "#     time.sleep(.5)\n",
    "axs.legend(good_probes)"
   ]
  },
  {
   "cell_type": "code",
   "execution_count": 10,
   "metadata": {},
   "outputs": [
    {
     "data": {
      "application/vnd.jupyter.widget-view+json": {
       "model_id": "fb82473963d74d00956aa08888d5d595",
       "version_major": 2,
       "version_minor": 0
      },
      "text/plain": [
       "Canvas(toolbar=Toolbar(toolitems=[('Home', 'Reset original view', 'home', 'home'), ('Back', 'Back to previous …"
      ]
     },
     "metadata": {},
     "output_type": "display_data"
    },
    {
     "data": {
      "application/vnd.jupyter.widget-view+json": {
       "model_id": "81df5418b22f40ba85e95e132ba2a609",
       "version_major": 2,
       "version_minor": 0
      },
      "text/plain": [
       "Canvas(toolbar=Toolbar(toolitems=[('Home', 'Reset original view', 'home', 'home'), ('Back', 'Back to previous …"
      ]
     },
     "metadata": {},
     "output_type": "display_data"
    },
    {
     "data": {
      "application/vnd.jupyter.widget-view+json": {
       "model_id": "a35306d053eb499084213c0abba1138e",
       "version_major": 2,
       "version_minor": 0
      },
      "text/plain": [
       "Canvas(toolbar=Toolbar(toolitems=[('Home', 'Reset original view', 'home', 'home'), ('Back', 'Back to previous …"
      ]
     },
     "metadata": {},
     "output_type": "display_data"
    },
    {
     "data": {
      "application/vnd.jupyter.widget-view+json": {
       "model_id": "33fa1bde1cd7442ea489be333902e69e",
       "version_major": 2,
       "version_minor": 0
      },
      "text/plain": [
       "Canvas(toolbar=Toolbar(toolitems=[('Home', 'Reset original view', 'home', 'home'), ('Back', 'Back to previous …"
      ]
     },
     "metadata": {},
     "output_type": "display_data"
    },
    {
     "data": {
      "application/vnd.jupyter.widget-view+json": {
       "model_id": "7bbb4e9bc3e2419394598c6f107653df",
       "version_major": 2,
       "version_minor": 0
      },
      "text/plain": [
       "Canvas(toolbar=Toolbar(toolitems=[('Home', 'Reset original view', 'home', 'home'), ('Back', 'Back to previous …"
      ]
     },
     "metadata": {},
     "output_type": "display_data"
    },
    {
     "data": {
      "application/vnd.jupyter.widget-view+json": {
       "model_id": "4db60206ef594b848d2ad40d2c668607",
       "version_major": 2,
       "version_minor": 0
      },
      "text/plain": [
       "Canvas(toolbar=Toolbar(toolitems=[('Home', 'Reset original view', 'home', 'home'), ('Back', 'Back to previous …"
      ]
     },
     "metadata": {},
     "output_type": "display_data"
    },
    {
     "data": {
      "application/vnd.jupyter.widget-view+json": {
       "model_id": "a118798c959d45eb8c2185515f7cea40",
       "version_major": 2,
       "version_minor": 0
      },
      "text/plain": [
       "Canvas(toolbar=Toolbar(toolitems=[('Home', 'Reset original view', 'home', 'home'), ('Back', 'Back to previous …"
      ]
     },
     "metadata": {},
     "output_type": "display_data"
    },
    {
     "data": {
      "application/vnd.jupyter.widget-view+json": {
       "model_id": "b706fbcdac404758b009b131c7f545ac",
       "version_major": 2,
       "version_minor": 0
      },
      "text/plain": [
       "Canvas(toolbar=Toolbar(toolitems=[('Home', 'Reset original view', 'home', 'home'), ('Back', 'Back to previous …"
      ]
     },
     "metadata": {},
     "output_type": "display_data"
    }
   ],
   "source": [
    "for (iprobe, probe) in enumerate(good_probes):\n",
    "    probe_x, probe_y = probe_data[probe]\n",
    "\n",
    "    ul, ulidx = np.unique(probe_y, return_index=True, axis=0)\n",
    "    \n",
    "    fig, axs = plt.subplots(tight_layout=True, figsize=(12, 5))\n",
    "\n",
    "    for idx in ulidx:\n",
    "        axs.plot(probe_x[idx,:])\n",
    "    axs.set_title(probe)\n",
    "#     axs[iprobe].set_ylim(-50, 50)\n"
   ]
  },
  {
   "cell_type": "code",
   "execution_count": 7,
   "metadata": {},
   "outputs": [
    {
     "data": {
      "application/vnd.jupyter.widget-view+json": {
       "model_id": "ee7bc665c3a74ff996be967e4583a597",
       "version_major": 2,
       "version_minor": 0
      },
      "text/plain": [
       "Canvas(toolbar=Toolbar(toolitems=[('Home', 'Reset original view', 'home', 'home'), ('Back', 'Back to previous …"
      ]
     },
     "metadata": {},
     "output_type": "display_data"
    },
    {
     "name": "stdout",
     "output_type": "stream",
     "text": [
      "MMA003W01R04 [-9.4523779e+03 -9.4524736e+03  4.2099996e+00 -9.4524160e+03]\n",
      "MMA003W01R04 [1.0397461e+03 1.0397556e+03 3.1908679e-01 1.0397499e+03]\n",
      "\n",
      "MMA004W01R04 [-9.4526260e+03 -9.4525010e+03  4.2099996e+00 -9.4528340e+03]\n",
      "MMA004W01R04 [1.0397694e+03 1.0397570e+03 3.1908679e-01 1.0397903e+03]\n",
      "\n",
      "MMA013W01R04 [-9.4526797e+03 -9.4525918e+03  4.2099996e+00 -9.4525947e+03]\n",
      "MMA013W01R04 [1.0397756e+03 1.0397668e+03 3.1908679e-01 1.0397671e+03]\n",
      "\n",
      "MMA018W01R04 [-9.4526650e+03 -9.4525146e+03  4.2099996e+00 -9.4527832e+03]\n",
      "MMA018W01R04 [1.0397733e+03 1.0397583e+03 3.1908679e-01 1.0397852e+03]\n",
      "\n",
      "MMA019W01R04 [-9.4526260e+03 -9.4525010e+03  4.2099996e+00 -9.4528340e+03]\n",
      "MMA019W01R04 [1.0397694e+03 1.0397570e+03 3.1908679e-01 1.0397903e+03]\n",
      "\n",
      "MMA022W01R04 [-9.4525205e+03 -9.4525527e+03  4.2099996e+00 -9.4525352e+03]\n",
      "MMA022W01R04 [1.0397604e+03 1.0397635e+03 3.1908679e-01 1.0397618e+03]\n",
      "\n",
      "MMA023W01R04 [-9.4523213e+03 -9.4524355e+03  4.2099996e+00 -9.4524072e+03]\n",
      "MMA023W01R04 [1.0397405e+03 1.0397518e+03 3.1908679e-01 1.0397490e+03]\n",
      "\n",
      "MMA024W01R04 [-9.4527861e+03 -9.4526719e+03  4.2099996e+00 -9.4526719e+03]\n",
      "MMA024W01R04 [1.0397863e+03 1.0397748e+03 3.1908679e-01 1.0397748e+03]\n",
      "\n",
      "MMA025W01R04 [-9.4525410e+03 -9.4526006e+03  4.2099996e+00 -9.4524375e+03]\n",
      "MMA025W01R04 [1.0397617e+03 1.0397677e+03 3.1908679e-01 1.0397513e+03]\n",
      "\n"
     ]
    }
   ],
   "source": [
    "fig, axs = plt.subplots(2, 2, sharey=False, sharex=False, tight_layout=True)\n",
    "fig.set_size_inches(10,10)\n",
    "\n",
    "last_probe_y = None\n",
    "for probe in good_probes:\n",
    "    _ , probe_y = probe_data[probe]\n",
    "\n",
    "#     print(probe, np.mean(probe_y, axis=0))\n",
    "#     print(probe, np.std(probe_y, axis=0))\n",
    "    \n",
    "    std = np.std(probe_y, axis=0)\n",
    "    print(probe, np.mean(probe_y, axis=0)-10*std)\n",
    "    print(probe, std)\n",
    "\n",
    "    print()\n",
    "\n",
    "#     zeros = normalize_data(np.zeros(4))\n",
    "    for ic in range(0,4):\n",
    "        idx = np.unravel_index(ic, axs.shape)\n",
    "        x = probe_y[:,ic]\n",
    "        axs[idx].hist(x, alpha=.2)"
   ]
  },
  {
   "cell_type": "code",
   "execution_count": 8,
   "metadata": {},
   "outputs": [
    {
     "data": {
      "text/plain": [
       "537.5801684400197"
      ]
     },
     "execution_count": 8,
     "metadata": {},
     "output_type": "execute_result"
    }
   ],
   "source": [
    "np.sqrt(288992.4375)"
   ]
  },
  {
   "cell_type": "code",
   "execution_count": 9,
   "metadata": {},
   "outputs": [
    {
     "data": {
      "text/plain": [
       "464.06932735443115"
      ]
     },
     "execution_count": 9,
     "metadata": {},
     "output_type": "execute_result"
    }
   ],
   "source": [
    "(693.100830078125 + 639.6287231445312 + 7.405788421630859 + 516.1419677734375)/4"
   ]
  },
  {
   "cell_type": "code",
   "execution_count": null,
   "metadata": {},
   "outputs": [],
   "source": []
  }
 ],
 "metadata": {
  "kernelspec": {
   "display_name": "Python 3",
   "language": "python",
   "name": "python3"
  },
  "language_info": {
   "codemirror_mode": {
    "name": "ipython",
    "version": 3
   },
   "file_extension": ".py",
   "mimetype": "text/x-python",
   "name": "python",
   "nbconvert_exporter": "python",
   "pygments_lexer": "ipython3",
   "version": "3.7.4"
  }
 },
 "nbformat": 4,
 "nbformat_minor": 4
}
