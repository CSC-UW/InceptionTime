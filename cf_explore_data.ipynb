{
 "cells": [
  {
   "cell_type": "code",
   "execution_count": 1,
   "metadata": {},
   "outputs": [
    {
     "name": "stdout",
     "output_type": "stream",
     "text": [
      "WARNING:tensorflow:From /opt/apps/software/TensorFlow/2.2.0-fosscuda-2019b-Python-3.7.4/lib/python3.7/site-packages/tensorflow/python/compat/v2_compat.py:96: disable_resource_variables (from tensorflow.python.ops.variable_scope) is deprecated and will be removed in a future version.\n",
      "Instructions for updating:\n",
      "non-resource variables are not supported in the long term\n"
     ]
    }
   ],
   "source": [
    "%matplotlib widget\n",
    "from IPython import get_ipython\n",
    "ipython = get_ipython()\n",
    "if '__IPYTHON__' in globals():\n",
    "    ipython.magic('load_ext autoreload')\n",
    "    ipython.magic('autoreload 2')\n",
    "\n",
    "import argparse\n",
    "import os\n",
    "from glob import glob\n",
    "import pickle\n",
    "from itertools import compress\n",
    "\n",
    "from matplotlib import pyplot as plt\n",
    "import numpy as np\n",
    "from sklearn.metrics import r2_score\n",
    "from scipy.io import loadmat\n",
    "\n",
    "import tensorflow as tf\n",
    "\n",
    "\n",
    "from mymodels.macromicro_conv_model import load_matlab, shifted_zscore, print_metric, zscore\n",
    "\n",
    "def minmax(x, inverse=False):\n",
    "    xmin = np.array([-1,-1,6.8,-1])\n",
    "    xmax = np.array([4000.,4000.,8.,4000.])\n",
    "    \n",
    "    a = xmax - xmin\n",
    "\n",
    "    if inverse:\n",
    "        x = x*a + xmin\n",
    "    else:\n",
    "        x = (x-xmin)/a\n",
    "\n",
    "    return x\n",
    "\n",
    "\n",
    "# normalize_data = minmax\n",
    "# revert_data = lambda x: minmax(x, inverse=True)\n",
    "\n",
    "# normalize_data = shifted_zscore_cf\n",
    "# revert_data = lambda x: shifted_zscore_cf(x, inverse=True)\n",
    "\n",
    "normalize_data = lambda x: x\n",
    "revert_data = lambda x: x\n",
    "\n",
    "# this is actually the number of records per UNIQUE CONCENTRATIONS per probe\n",
    "n_records_per_probe = -1 # all\n",
    "# n_records_per_probe = 1\n",
    "\n"
   ]
  },
  {
   "cell_type": "code",
   "execution_count": 30,
   "metadata": {},
   "outputs": [
    {
     "name": "stdout",
     "output_type": "stream",
     "text": [
      "loading probe CF025\n",
      "loading probe CF027\n",
      "CF027 different\n",
      "loading probe CF057\n",
      "CF057 different\n",
      "loading probe CF064\n",
      "CF064 different\n",
      "loading probe CF066\n",
      "CF066 different\n",
      "loading probe CF078\n",
      "CF078 different\n",
      "loading probe CF081\n",
      "CF081 different\n",
      "loading probe CF082\n"
     ]
    }
   ],
   "source": [
    "\n",
    "names = ['DA', '5HT', 'pH', 'NE']\n",
    "speed = 'slow'\n",
    "prefix = '/mnt/nfs/proj/in-vitro/Leonardo/cf_data'\n",
    "\n",
    "good_probes = [\n",
    "    'CF025', 'CF027', 'CF057', 'CF064', 'CF066', 'CF078', 'CF081', 'CF082'\n",
    "]\n",
    "\n",
    "# jitter = None\n",
    "jitter = 50\n",
    "probe_data = {}\n",
    "last_conc = None\n",
    "for (iprobe, probe) in enumerate(good_probes):\n",
    "\n",
    "    print('loading probe %s'%probe)\n",
    "    probe_file = os.path.join(prefix, f'{probe}.npz')\n",
    "    np_probe = np.load(probe_file)\n",
    "    x_probe = np_probe['x']\n",
    "    y_probe = np_probe['y']\n",
    "\n",
    "    # get n unique records per label\n",
    "    if n_records_per_probe > -1:\n",
    "        _, ulidx = np.unique(y_probe, return_index=True, axis=0)\n",
    "        u_x = []\n",
    "        u_y = []\n",
    "        for idx in ulidx:\n",
    "            all_idx = np.where((y_probe == y_probe[idx,:]).all(axis=1))[0]\n",
    "            u_x.append(x_probe[all_idx[:n_records_per_probe], :])\n",
    "            u_y.append(y_probe[all_idx[:n_records_per_probe], :])\n",
    "        x_probe = np.concatenate(u_x)\n",
    "        y_probe = np.concatenate(u_y)\n",
    "\n",
    "    y_probe = np.apply_along_axis(normalize_data, axis=1, arr=y_probe) \n",
    "\n",
    "    ul, ulidx = np.unique(y_probe, return_index=True, axis=0)\n",
    "    if last_conc is not None:\n",
    "        if np.any(ul.flatten() - last_conc.flatten()):\n",
    "            print('%s different'%probe)\n",
    "        last_conb = ul\n",
    "    else:\n",
    "        last_conc = ul\n",
    "    \n",
    "    if jitter is not None:\n",
    "        for (ix, x) in enumerate(x_probe):\n",
    "            j = np.random.randint(-jitter, jitter)\n",
    "            y = np.roll(x, j)\n",
    "            if j > 0:\n",
    "                y[:j] = 0\n",
    "            elif j < 0:\n",
    "                y[j:] = 0\n",
    "            x_probe[ix,:] = y\n",
    "\n",
    "    probe_data[probe] = (x_probe, y_probe)\n"
   ]
  },
  {
   "cell_type": "code",
   "execution_count": 31,
   "metadata": {
    "jupyter": {
     "source_hidden": true
    }
   },
   "outputs": [
    {
     "data": {
      "application/vnd.jupyter.widget-view+json": {
       "model_id": "83adf8916abb49b4b46930643b865786",
       "version_major": 2,
       "version_minor": 0
      },
      "text/plain": [
       "Canvas(toolbar=Toolbar(toolitems=[('Home', 'Reset original view', 'home', 'home'), ('Back', 'Back to previous …"
      ]
     },
     "metadata": {},
     "output_type": "display_data"
    },
    {
     "data": {
      "text/plain": [
       "<matplotlib.legend.Legend at 0x2aac218a3e50>"
      ]
     },
     "execution_count": 31,
     "metadata": {},
     "output_type": "execute_result"
    }
   ],
   "source": [
    "import time\n",
    "\n",
    "fig, axs = plt.subplots(tight_layout=True, figsize=(12, 5))\n",
    "\n",
    "# fig,ax = plt.subplots(1,1)\n",
    "# ax.set_xlabel('X')\n",
    "# ax.set_ylabel('Y')\n",
    "# ax.set_xlim(0,1)\n",
    "# ax.set_ylim(0,1)\n",
    "\n",
    "# def pltsin(ax, colors=['b']):\n",
    "#     x = np.linspace(0,1,100)\n",
    "#     if ax.lines:\n",
    "#         for line in ax.lines:\n",
    "#             line.set_xdata(x)\n",
    "#             y = np.random.random(size=(100,1))\n",
    "#             line.set_ydata(y)\n",
    "#     else:\n",
    "#         for color in colors:\n",
    "#             y = np.random.random(size=(100,1))\n",
    "#             ax.plot(x, y, color)\n",
    "#     fig.canvas.draw()\n",
    "    \n",
    "# fig,ax = plt.subplots(1,1)\n",
    "# ax.set_xlabel('X')\n",
    "# ax.set_ylabel('Y')\n",
    "# ax.set_xlim(0,1)\n",
    "# ax.set_ylim(0,1)\n",
    "# for f in range(5):\n",
    "#     pltsin(ax, ['b', 'r'])\n",
    "#     time.sleep(1)\n",
    "    \n",
    "\n",
    "plot_data = np.zeros((list(probe_data.values())[0][0].shape[1], len(good_probes)))\n",
    "for (iprobe, probe) in enumerate(good_probes):\n",
    "    probe_x, probe_y = probe_data[probe]\n",
    "    ul, ulidx = np.unique(probe_y, return_index=True, axis=0)\n",
    "    plot_data[:,iprobe] = np.mean(probe_x[ulidx,:], axis=0)\n",
    "\n",
    "axs.plot(plot_data)\n",
    "# axs.set_ylim(-50, 50)\n",
    "\n",
    "# for shift in range(0,900,5):\n",
    "#     axs.plot(plot_data[:,shift:shift+40], label=probe)\n",
    "#     plt.draw()\n",
    "#     time.sleep(.5)\n",
    "axs.legend(good_probes)"
   ]
  },
  {
   "cell_type": "code",
   "execution_count": 32,
   "metadata": {},
   "outputs": [
    {
     "data": {
      "application/vnd.jupyter.widget-view+json": {
       "model_id": "7877de22567d4df5800b8ac3388bc2fd",
       "version_major": 2,
       "version_minor": 0
      },
      "text/plain": [
       "Canvas(toolbar=Toolbar(toolitems=[('Home', 'Reset original view', 'home', 'home'), ('Back', 'Back to previous …"
      ]
     },
     "metadata": {},
     "output_type": "display_data"
    },
    {
     "data": {
      "application/vnd.jupyter.widget-view+json": {
       "model_id": "80e5259a32094cd5901fa68825c037a4",
       "version_major": 2,
       "version_minor": 0
      },
      "text/plain": [
       "Canvas(toolbar=Toolbar(toolitems=[('Home', 'Reset original view', 'home', 'home'), ('Back', 'Back to previous …"
      ]
     },
     "metadata": {},
     "output_type": "display_data"
    },
    {
     "data": {
      "application/vnd.jupyter.widget-view+json": {
       "model_id": "3fa7c82e10224e8897e09074246392d1",
       "version_major": 2,
       "version_minor": 0
      },
      "text/plain": [
       "Canvas(toolbar=Toolbar(toolitems=[('Home', 'Reset original view', 'home', 'home'), ('Back', 'Back to previous …"
      ]
     },
     "metadata": {},
     "output_type": "display_data"
    },
    {
     "data": {
      "application/vnd.jupyter.widget-view+json": {
       "model_id": "1a8cd8dc59a14dc2966a9fb58737c67e",
       "version_major": 2,
       "version_minor": 0
      },
      "text/plain": [
       "Canvas(toolbar=Toolbar(toolitems=[('Home', 'Reset original view', 'home', 'home'), ('Back', 'Back to previous …"
      ]
     },
     "metadata": {},
     "output_type": "display_data"
    },
    {
     "data": {
      "application/vnd.jupyter.widget-view+json": {
       "model_id": "b3cba185a7cb44dd87795f059086b18e",
       "version_major": 2,
       "version_minor": 0
      },
      "text/plain": [
       "Canvas(toolbar=Toolbar(toolitems=[('Home', 'Reset original view', 'home', 'home'), ('Back', 'Back to previous …"
      ]
     },
     "metadata": {},
     "output_type": "display_data"
    },
    {
     "data": {
      "application/vnd.jupyter.widget-view+json": {
       "model_id": "6eb407cab3e945cbaea238fbbd1c4d24",
       "version_major": 2,
       "version_minor": 0
      },
      "text/plain": [
       "Canvas(toolbar=Toolbar(toolitems=[('Home', 'Reset original view', 'home', 'home'), ('Back', 'Back to previous …"
      ]
     },
     "metadata": {},
     "output_type": "display_data"
    },
    {
     "data": {
      "application/vnd.jupyter.widget-view+json": {
       "model_id": "b3d531bdbec6420dbeb3569ebae7df1c",
       "version_major": 2,
       "version_minor": 0
      },
      "text/plain": [
       "Canvas(toolbar=Toolbar(toolitems=[('Home', 'Reset original view', 'home', 'home'), ('Back', 'Back to previous …"
      ]
     },
     "metadata": {},
     "output_type": "display_data"
    },
    {
     "data": {
      "application/vnd.jupyter.widget-view+json": {
       "model_id": "eba43cb96c3c4d458df3c8240598ae0c",
       "version_major": 2,
       "version_minor": 0
      },
      "text/plain": [
       "Canvas(toolbar=Toolbar(toolitems=[('Home', 'Reset original view', 'home', 'home'), ('Back', 'Back to previous …"
      ]
     },
     "metadata": {},
     "output_type": "display_data"
    }
   ],
   "source": [
    "for (iprobe, probe) in enumerate(good_probes):\n",
    "    probe_x, probe_y = probe_data[probe]\n",
    "\n",
    "    ul, ulidx = np.unique(probe_y, return_index=True, axis=0)\n",
    "    \n",
    "    fig, axs = plt.subplots(tight_layout=True, figsize=(12, 5))\n",
    "\n",
    "    for idx in ulidx:\n",
    "        axs.plot(probe_x[idx,:])\n",
    "    axs.set_title(probe)\n",
    "#     axs[iprobe].set_ylim(-50, 50)\n"
   ]
  },
  {
   "cell_type": "code",
   "execution_count": 5,
   "metadata": {},
   "outputs": [
    {
     "data": {
      "application/vnd.jupyter.widget-view+json": {
       "model_id": "bf49b050564b45a6a818057d17de71c0",
       "version_major": 2,
       "version_minor": 0
      },
      "text/plain": [
       "Canvas(toolbar=Toolbar(toolitems=[('Home', 'Reset original view', 'home', 'home'), ('Back', 'Back to previous …"
      ]
     },
     "metadata": {},
     "output_type": "display_data"
    },
    {
     "name": "stdout",
     "output_type": "stream",
     "text": [
      "CF025 [-1.2690032e+04 -1.2688903e+04  6.0043130e+00 -1.2694118e+04]\n",
      "CF025 [1.3577971e+03 1.3577040e+03 1.3915135e-01 1.3582355e+03]\n",
      "\n",
      "CF027 [-1.26871455e+04 -1.26977432e+04  6.00474358e+00 -1.26833506e+04]\n",
      "CF027 [1.3574913e+03 1.3585759e+03 1.3913688e-01 1.3571090e+03]\n",
      "\n",
      "CF057 [-1.2688219e+04 -1.2693567e+04  6.0042143e+00 -1.2690090e+04]\n",
      "CF057 [1.3576005e+03 1.3581786e+03 1.3914376e-01 1.3577697e+03]\n",
      "\n",
      "CF064 [-1.2685267e+04 -1.2694261e+04  6.0044909e+00 -1.2691211e+04]\n",
      "CF064 [1.3573193e+03 1.3582217e+03 1.3914590e-01 1.3579270e+03]\n",
      "\n",
      "CF066 [-1.2685498e+04 -1.2694119e+04  6.0043459e+00 -1.2691737e+04]\n",
      "CF066 [1.3573386e+03 1.3582080e+03 1.3915472e-01 1.3579791e+03]\n",
      "\n",
      "CF078 [-1.2685906e+04 -1.2687273e+04  6.0045390e+00 -1.2692064e+04]\n",
      "CF078 [1.3573467e+03 1.3574780e+03 1.3914447e-01 1.3580123e+03]\n",
      "\n",
      "CF081 [-1.2686164e+04 -1.2687549e+04  6.0044622e+00 -1.2692280e+04]\n",
      "CF081 [1.3573716e+03 1.3575029e+03 1.3915764e-01 1.3580276e+03]\n",
      "\n",
      "CF082 [-1.2690922e+04 -1.2688216e+04  6.0043612e+00 -1.2693766e+04]\n",
      "CF082 [1.3578876e+03 1.3576371e+03 1.3916367e-01 1.3581967e+03]\n",
      "\n"
     ]
    }
   ],
   "source": [
    "fig, axs = plt.subplots(2, 2, sharey=False, sharex=False, tight_layout=True)\n",
    "fig.set_size_inches(10,10)\n",
    "\n",
    "last_probe_y = None\n",
    "for probe in good_probes:\n",
    "    _ , probe_y = probe_data[probe]\n",
    "\n",
    "#     print(probe, np.mean(probe_y, axis=0))\n",
    "#     print(probe, np.std(probe_y, axis=0))\n",
    "    \n",
    "    std = np.std(probe_y, axis=0)\n",
    "    print(probe, np.mean(probe_y, axis=0)-10*std)\n",
    "    print(probe, std)\n",
    "\n",
    "    print()\n",
    "\n",
    "#     zeros = normalize_data(np.zeros(4))\n",
    "    for ic in range(0,4):\n",
    "        idx = np.unravel_index(ic, axs.shape)\n",
    "        x = probe_y[:,ic]\n",
    "        axs[idx].hist(x, alpha=.2)"
   ]
  },
  {
   "cell_type": "code",
   "execution_count": 6,
   "metadata": {},
   "outputs": [
    {
     "data": {
      "text/plain": [
       "537.5801684400197"
      ]
     },
     "execution_count": 6,
     "metadata": {},
     "output_type": "execute_result"
    }
   ],
   "source": [
    "np.sqrt(288992.4375)"
   ]
  },
  {
   "cell_type": "code",
   "execution_count": 7,
   "metadata": {},
   "outputs": [
    {
     "data": {
      "text/plain": [
       "464.06932735443115"
      ]
     },
     "execution_count": 7,
     "metadata": {},
     "output_type": "execute_result"
    }
   ],
   "source": [
    "(693.100830078125 + 639.6287231445312 + 7.405788421630859 + 516.1419677734375)/4"
   ]
  },
  {
   "cell_type": "code",
   "execution_count": null,
   "metadata": {},
   "outputs": [],
   "source": []
  }
 ],
 "metadata": {
  "kernelspec": {
   "display_name": "Python 3",
   "language": "python",
   "name": "python3"
  },
  "language_info": {
   "codemirror_mode": {
    "name": "ipython",
    "version": 3
   },
   "file_extension": ".py",
   "mimetype": "text/x-python",
   "name": "python",
   "nbconvert_exporter": "python",
   "pygments_lexer": "ipython3",
   "version": "3.7.4"
  }
 },
 "nbformat": 4,
 "nbformat_minor": 4
}
