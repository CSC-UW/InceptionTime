{
 "cells": [
  {
   "cell_type": "code",
   "execution_count": 1,
   "metadata": {},
   "outputs": [],
   "source": [
    "import glmnet_python\n",
    "from glmnet import glmnet\n",
    "\n",
    "# Import relevant modules and setup for calling glmnet\n",
    "%matplotlib inline\n",
    "\n",
    "import time\n",
    "import sys\n",
    "import os\n",
    "import re\n",
    "from itertools import compress\n",
    "from glob import glob\n",
    "import pickle\n",
    "\n",
    "import tensorflow as tf # data is in TFRecord format\n",
    "\n",
    "import scipy, importlib, pprint, matplotlib.pyplot as plt, warnings\n",
    "from scipy.io import loadmat\n",
    "\n",
    "import numpy as np\n",
    "from glmnet import glmnet; from glmnetPlot import glmnetPlot\n",
    "from glmnetPrint import glmnetPrint; from glmnetCoef import glmnetCoef; from glmnetPredict import glmnetPredict\n",
    "from cvglmnet import cvglmnet; from cvglmnetCoef import cvglmnetCoef\n",
    "from cvglmnetPlot import cvglmnetPlot; from cvglmnetPredict import cvglmnetPredict\n",
    "\n",
    "# glmnet has many deprecation warnings from using scipy.* instad of numpy.*\n",
    "warnings.filterwarnings(\"ignore\", category=DeprecationWarning) \n",
    "\n",
    "def plot_distributions(y, y_hat):\n",
    "\n",
    "    fig, axs = plt.subplots(2, 4, sharey=False, sharex=False, tight_layout=True)\n",
    "    fig.set_size_inches(20,10)\n",
    "\n",
    "    for ic in range(0,8):\n",
    "        idx = np.unravel_index(ic, axs.shape)\n",
    "        if ic < 4:\n",
    "            axs[idx].set_title(\"Real %s\"%names[ic])\n",
    "            x = y[:,ic]        \n",
    "        else:\n",
    "            axs[idx].set_title(\"Predicted %s\"%names[ic-4])\n",
    "            x = y_hat[:,ic-4]\n",
    "        axs[idx].hist(x, bins=20)"
   ]
  },
  {
   "cell_type": "code",
   "execution_count": 2,
   "metadata": {},
   "outputs": [],
   "source": [
    "# Define constants\n",
    "ncores = 28 # 56\n",
    "names = ['DA', '5HT', 'pH', 'NE']\n",
    "results_prefix = '/mnt/nfs/proj/in-vitro/Leonardo/glmnet/fits/'\n",
    "prefix = os.path.join('/mnt/nfs/proj/in-vitro/Mark/four_analyte/slow/allin')\n",
    "# good_probes = ['CF025']\n",
    "good_probes = ['CF025', 'CF027']\n",
    "# good_probes = ['CF025', 'CF027', 'CF057', 'CF064', 'CF066', 'CF078', 'CF081', 'CF082']\n",
    "# nrecords_per_session = 1 # One is special, loads one sweep per concentration per TFRecord\n",
    "# nrecords_per_session = 2 # Any other number loads that amount of records in sequence from each TFRecord\n",
    "nrecords_per_session = -1 # Loads all records\n",
    "val_ratio = .1\n",
    "hold_probe = 0\n",
    "# hold_probe = -1 # split data randomly\n"
   ]
  },
  {
   "cell_type": "code",
   "execution_count": 3,
   "metadata": {},
   "outputs": [
    {
     "name": "stdout",
     "output_type": "stream",
     "text": [
      "(61650, 999) (61650, 4)\n",
      "(61650, 999) (61650, 4)\n",
      "--- 2.6020078659057617 seconds ---\n"
     ]
    }
   ],
   "source": [
    "# Load data\n",
    "\n",
    "start_time = time.time()\n",
    "\n",
    "def natural_keys(text):\n",
    "    '''\n",
    "    alist.sort(key=natural_keys) sorts in human order\n",
    "    http://nedbatchelder.com/blog/200712/human_sorting.html\n",
    "    (See Toothy's implementation in the comments)\n",
    "    '''\n",
    "    def atoi(text):\n",
    "        return int(text) if text.isdigit() else text\n",
    "    return [atoi(c) for c in re.split(r'(\\d+)', text)]\n",
    "\n",
    "def preprocess(serialized_example):\n",
    "    features = tf.io.parse_example(\n",
    "        serialized_example,\n",
    "        features={\n",
    "            'gram': tf.io.FixedLenFeature([], tf.string),\n",
    "            'label': tf.io.FixedLenFeature([], tf.string)\n",
    "        })\n",
    "    data = tf.io.decode_raw(features['gram'], tf.float32)\n",
    "    label = tf.io.decode_raw(features['label'], tf.float32)\n",
    "    data.set_shape((None, 999))\n",
    "    label.set_shape((None, 4))\n",
    "    return data, label\n",
    "\n",
    "def merge_datasets(vfiles, projy=lambda x: x, asnumpy=False):\n",
    "    yv = []\n",
    "    yl = []\n",
    "    for filename in vfiles:\n",
    "        ds = tf.data.TFRecordDataset(filename)\n",
    "        ds = ds.batch(batch_size=2**13)\n",
    "        ds = ds.map(map_func=preprocess)\n",
    "        for v,l in ds:\n",
    "            v = np.array(v).astype(np.float64)\n",
    "            l = np.array(l).astype(np.float64)\n",
    "            l = np.apply_along_axis(projy, axis=1, arr=l) \n",
    "            if nrecords_per_session == 1:\n",
    "                _, ulidx = np.unique(l, return_index=True, axis=0)\n",
    "                yv.append(v[ulidx,:])\n",
    "                yl.append(l[ulidx,:])\n",
    "            elif nrecords_per_session > 0:\n",
    "                yv.append(v[:nrecords_per_session,:])\n",
    "                yl.append(l[:nrecords_per_session,:])\n",
    "            else:\n",
    "                yv.append(v)\n",
    "                yl.append(l)\n",
    "#             print(yv[-1].shape)\n",
    "#             print(yl[-1].shape)       \n",
    "    x = np.vstack(yv)\n",
    "    y = np.vstack(yl)\n",
    "\n",
    "    if asnumpy:\n",
    "        return x,y\n",
    "    else:\n",
    "        d = tf.data.Dataset.from_tensor_slices((x, y))\n",
    "        return d\n",
    "\n",
    "if hold_probe < 0:\n",
    "    all_files = sum([\n",
    "        sorted(tf.io.gfile.glob(os.path.join(prefix, probe, 'total_records', '*')),\n",
    "               key=natural_keys) for probe in good_probes\n",
    "    ], [])\n",
    "\n",
    "    x, y = merge_datasets(all_files, asnumpy=True)\n",
    "    \n",
    "    idxs = np.random.permutation(x.shape[0])\n",
    "    lim = int(x.shape[0]*(1-val_ratio))\n",
    "    d1idx = idxs[idxs[:lim]]\n",
    "    d2idx = idxs[idxs[lim:]]\n",
    "    x_train, y_train, x_val, y_val = x[d1idx,:], y[d1idx,:], x[d2idx,:], y[d2idx,:]\n",
    "else:\n",
    "    hold_probe = good_probes.pop(hold_probe)\n",
    "    train_files = sum([\n",
    "        sorted(tf.io.gfile.glob(os.path.join(prefix, probe, 'total_records', '*')),\n",
    "               key=natural_keys) for probe in good_probes\n",
    "    ], [])\n",
    "    x_train, y_train = merge_datasets(train_files, asnumpy=True)\n",
    "    \n",
    "    val_files = sum([\n",
    "        sorted(tf.io.gfile.glob(os.path.join(prefix, probe, 'total_records', '*')),\n",
    "               key=natural_keys) for probe in [hold_probe]\n",
    "    ], [])\n",
    "    x_val, y_val = merge_datasets(val_files, asnumpy=True)\n",
    "\n",
    "print(x_train.shape, y_train.shape)\n",
    "print(x_val.shape, y_val.shape)  \n",
    "\n",
    "print(\"--- %s seconds ---\" % (time.time() - start_time))\n"
   ]
  },
  {
   "cell_type": "code",
   "execution_count": 5,
   "metadata": {},
   "outputs": [
    {
     "name": "stdout",
     "output_type": "stream",
     "text": [
      "Spliting training data into cells per concentration...  done.\n"
     ]
    }
   ],
   "source": [
    "print('Spliting training data into cells per concentration... ', end='')\n",
    "\n",
    "# nint = 5\n",
    "nint = 2\n",
    "analytes = [0,1,3]\n",
    "concentrations = [[]]*len(analytes)\n",
    "ranges = [[]]*len(analytes)\n",
    "for ic in range(len(analytes)):\n",
    "    concentrations[ic] = np.linspace(min(y_train[:,analytes[ic]]), max(y_train[:,analytes[ic]]), nint+1)\n",
    "#     print(c[ic])\n",
    "    ranges[ic] = [concentrations[ic][ir] + np.mean(np.diff(concentrations[ic]))/2 for ir in range(len(concentrations[ic])-1)]\n",
    "#     print(r[ic])\n",
    "\n",
    "# use itertools product instead of nested for loops to make it easier to change the number of analytes\n",
    "from itertools import product\n",
    "split_data = {x: np.array([]) for x in product(range(nint), repeat=len(analytes))}\n",
    "error = []\n",
    "# print(len(split_data))\n",
    "for x in split_data:\n",
    "\n",
    "    # build binary mask for this cell\n",
    "    good_data = np.full((y_train.shape[0],), True)\n",
    "#     print(good_data.shape, good_data[0].__class__)\n",
    "    for (ix,nx) in enumerate(x):\n",
    "#         print(sum(good_data))\n",
    "#         print(a[ix], nx)\n",
    "        zeros = y_train[:,analytes[ix]] == 0.0\n",
    "        above = y_train[:,analytes[ix]] > concentrations[ix][nx]\n",
    "#         print(above.shape, above[0].__class__, c[ix][nx])\n",
    "        below = y_train[:,analytes[ix]] < concentrations[ix][nx+1]\n",
    "#         print(below.shape, below[0].__class__, c[ix][nx+1])\n",
    "        interval = np.bitwise_or(np.bitwise_and(above, below), zeros)\n",
    "#         print(interval.shape, interval[0].__class__, sum(interval))\n",
    "        good_data = np.bitwise_and(good_data, interval)\n",
    "\n",
    "#     print(sum(good_data))\n",
    "    # save data\n",
    "    split_data[x] = (x_train[good_data,:], y_train[good_data,:])\n",
    "    \n",
    "    y = split_data[x][1]\n",
    "    means = np.array([np.mean(y[y[:,x]>0, x]) for x in range(4)])\n",
    "#     print(means)\n",
    "    expected_means = np.array([ranges[i][x[i]] for i in range(len(analytes))])\n",
    "#     print(expected_means)\n",
    "    error.append(np.sqrt( (means[np.array(analytes)] - expected_means)**2 ))\n",
    "\n",
    "print(' done.')"
   ]
  },
  {
   "cell_type": "code",
   "execution_count": 6,
   "metadata": {},
   "outputs": [
    {
     "data": {
      "image/png": "[encoded data removed]",
      "text/plain": [
       "<Figure size 1440x360 with 3 Axes>"
      ]
     },
     "metadata": {
      "needs_background": "light"
     },
     "output_type": "display_data"
    }
   ],
   "source": [
    "e = np.array(error)\n",
    "fig, axs = plt.subplots(1, 3, figsize=(20,5))\n",
    "for idx in range(3):\n",
    "    axs[idx].hist(e[:,idx])\n",
    "plt.show()"
   ]
  },
  {
   "cell_type": "code",
   "execution_count": null,
   "metadata": {},
   "outputs": [
    {
     "name": "stdout",
     "output_type": "stream",
     "text": [
      "Computing 10 cross-validations for model 0 of 8 ((0, 0, 0)) ... "
     ]
    }
   ],
   "source": [
    "# fit GLMNET in parallel (ncores) with cross validation to find lambda\n",
    "\n",
    "# alphas = [.9, 1.]\n",
    "alpha = 1.0\n",
    "models = {x: [] for x in split_data}\n",
    "ncross = 10\n",
    "nx = len(split_data)\n",
    "for (ix, x) in enumerate(split_data):\n",
    "    this_x_train, this_y_train = split_data[x]\n",
    "    print(f'Computing {ncross} cross-validations for model {ix} of {nx} ({x}) ... ', end='')\n",
    "    start_time = time.time()\n",
    "    models[x] = cvglmnet(x = this_x_train.copy(), y = this_y_train.copy(), family='mgaussian', parallel=ncores, ptype = 'mse', nfolds = ncross, alpha=alpha)\n",
    "    print(\" took %s seconds\" % (time.time() - start_time))"
   ]
  },
  {
   "cell_type": "code",
   "execution_count": null,
   "metadata": {},
   "outputs": [],
   "source": [
    "output_file = os.path.join(results_prefix, f'cf_alpha_1.0_{nint}x{nint}x{nint}.pickle')\n",
    "print(output_file)\n",
    "with open(output_file, 'wb') as f:\n",
    "    pickle.dump(models, f)"
   ]
  },
  {
   "cell_type": "code",
   "execution_count": null,
   "metadata": {},
   "outputs": [],
   "source": [
    "\n",
    "# find the model with predictions closest to original range (sum over all analytes) and compute RMSE of each analyte for that model \n",
    "\n",
    "# generate the predictions for each model\n",
    "y_hats = np.zeros((len(models), y_val.shape[0], y_val.shape[1]))\n",
    "for (ix, x) in enumerate(models):\n",
    "    print(f'{ix} of {nx} ({x})')\n",
    "    model = models[x]\n",
    "# #     y_hat = cvglmnetPredict(fit, newx = x_val, s='lambda_min')\n",
    "    y_hat = cvglmnetPredict(model, newx = x_val, s='lambda_1se')\n",
    "#     y_hat = y_val[:,:,None]*(1.+0.1*np.random.randn(y_val.shape[0], y_val.shape[1], 1))\n",
    "    y_hats[ix,:,:] = y_hat[:,:,0]\n",
    "\n",
    "# compute the differences to original intervals\n",
    "diff_y_hats = np.zeros(y_hats[:,:,analytes].shape)\n",
    "for (ix,x) in enumerate(models):\n",
    "    for ia in range(len(analytes)):\n",
    "        diff_y_hats[ix,:,ia] = (y_hats[ix,:,analytes[ia]] - ranges[ia][x[ia]])**2\n",
    "\n",
    "# find the model with sum of predictions closest to original intervals\n",
    "model_e = np.sum(diff_y_hats,axis=2)\n",
    "min_idx = model_e.argmin(axis=0)\n",
    "\n",
    "# compute the RMSE for each sample (there is certainly a more pythonic way to do that, but that works)\n",
    "rmse = np.zeros((4,), dtype=np.float64)\n",
    "for (sample_idx, model_idx) in enumerate(min_idx):\n",
    "    rmse += (y_hats[model_idx, sample_idx, :] - y_val[sample_idx, :])**2/y_val.shape[0]\n",
    "rmse = np.sqrt(rmse) \n",
    "\n",
    "for (armse, name) in zip(rmse,names):\n",
    "    print('%s: %4.5f'%(name,armse), flush=True)\n"
   ]
  },
  {
   "cell_type": "code",
   "execution_count": 26,
   "metadata": {},
   "outputs": [
    {
     "name": "stdout",
     "output_type": "stream",
     "text": [
      "[[0 0]\n",
      " [2 1]]\n",
      "[[1 2]\n",
      " [1 1]]\n"
     ]
    }
   ],
   "source": [
    "x=np.array([ [[1,2],[3,4]], [[4,3],[2,1]], [[2,4],[1,4]] ])\n",
    "idx_min = np.argmin(x,axis=0)\n",
    "print(idx_min)\n",
    "print(idx_min.choose(x))"
   ]
  },
  {
   "cell_type": "code",
   "execution_count": null,
   "metadata": {},
   "outputs": [],
   "source": []
  }
 ],
 "metadata": {
  "kernelspec": {
   "display_name": "Python 3",
   "language": "python",
   "name": "python3"
  },
  "language_info": {
   "codemirror_mode": {
    "name": "ipython",
    "version": 3
   },
   "file_extension": ".py",
   "mimetype": "text/x-python",
   "name": "python",
   "nbconvert_exporter": "python",
   "pygments_lexer": "ipython3",
   "version": "3.7.4"
  }
 },
 "nbformat": 4,
 "nbformat_minor": 4
}
